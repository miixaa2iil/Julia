{
 "cells": [
  {
   "cell_type": "markdown",
   "metadata": {},
   "source": [
    "# Projekt Zaliczeniowy z Numerycznej Mechaniki Płynów"
   ]
  },
  {
   "cell_type": "markdown",
   "metadata": {},
   "source": [
    "## Wojciech Chlapek i Michał Walczyński"
   ]
  },
  {
   "cell_type": "markdown",
   "metadata": {},
   "source": [
    "# Julia"
   ]
  },
  {
   "cell_type": "markdown",
   "metadata": {},
   "source": [
    "Julia jest dość nowych językiem (9 lat) w porównaniu do Pythona (30 lat). Czerpie z niego niektóre rozwiązania składniowe, wiele funkcji nazywa się identycznie itp."
   ]
  },
  {
   "cell_type": "markdown",
   "metadata": {},
   "source": [
    "Podstawowe założenia Julii:\n",
    "\n",
    "- prostota zapisu jak w Pythonie\n",
    "- szybkość jak w C\n",
    "\n",
    "O dziwo Julia całkiem dobrze radzi sobie z jednym i drugim. Kod w Julii, zwłaszcza w zastosowaniach numerycznych, jest często nawet bardziej czytelny niż kod w Pythonie. Jednocześnie Julia jest naprawdę dobrze zoptymalizowana, jej kod jest zazwyczaj niewiele wolniejszy od kodu C i bije na głowę natywny kod Pythona.\n",
    "\n",
    "Szybkość kodu Julii jest znacznym ułatwieniem dla twórców bibliotek, którzy nie muszą uciekać się do kodu w C, aby uzyskać zadowalającą wydajność. W Pythonie takie rozwiązanie jest często koniecznością.\n",
    "\n",
    "## Kompilacja JIT (*Just-in-time*)\n",
    "\n",
    "Julia kompiluje kod do natywnego kodu maszynowego (co pozwala uzyskać bardzo dobrą wydajność) i wykorzystuje mechanizm Just-in-time, co oznacza, że kod jest kompilowany w trakcie wykonywania i to dopiero w tym momencie, w którym jest to konieczne. Przykładowo funkcje są kompilowane tuż przed ich pierwszym uruchomieniem. Z tego powodu pierwsze uruchomienie funkcji może trwać długo - etap kompilacji jest kilkustopniowy i dość skomplikowany. W zamian za to każde kolejne wywołanie będzie korzystało z już skompilowanego i zoptymalizowanego kodu, więc jeśli funkcja będzie wykorzystywana wielokrotnie, czas poświęcony na jej skompilowanie za pierwszym razem zwróci się z nawiązką."
   ]
  },
  {
   "cell_type": "markdown",
   "metadata": {},
   "source": [
    "\n",
    "## Ważne cechy"
   ]
  },
  {
   "cell_type": "markdown",
   "metadata": {},
   "source": [
    "W Julii przyjęto następujące założenia:\n",
    "* istnieją konwencje w nazewnictwie, tj:\n",
    "    - funkcje z kropką w nazwie są funkcjani zwektoryzowanymi;\n",
    "    - funkcje z wykrzyknikiem na końcu modyfikują przynajmniej jeden z przekazanych argumentów;\n",
    "* zmienne i operatory mogą mieć _egzotyczne_ nazwy:\n",
    "    - zmienne: å, æ, ð, þ, θ,\n",
    "    - operatory: $\\div$, $\\in$, $\\notin$, $\\neq$, $\\veebar$;\n",
    "* Julia __nie jest__ zorientowana obiektowo;\n",
    "* nie ma klamer w instrukcjach, ale musi się pojawić słowo `end` na końcu (z wyjątkami);\n",
    "* słowo kluczowe `end` w indeksach oznacza ostatni element; \n",
    "* istnieje rozróżnienie na wektory poziome i pionowe;\n",
    "* nie ma klas w rozumieniu języków obiektowo orientowanych, ale istnieją typy i struktury oraz dziedziczenie;\n",
    "* nie ma wbudowanego typu listy, zamiast tego można użyć wektora;\n",
    "* posiada niektóre cechy języka funkcyjnego;\n",
    "* istnieje bardzo dużo typów, część nie ma odpowiednika klasy w Pythonie;\n",
    "* indeksowanie zaczyna się od 1;\n",
    "* przedziały (np. w wycinkach) są prawostronnie domknięte."
   ]
  },
  {
   "cell_type": "markdown",
   "metadata": {},
   "source": [
    "## Pakiety"
   ]
  },
  {
   "cell_type": "markdown",
   "metadata": {},
   "source": [
    "### Instalacja"
   ]
  },
  {
   "cell_type": "markdown",
   "metadata": {},
   "source": [
    "`using Pkg\n",
    "Pkg.add(\"nazwa_pakietu\")`"
   ]
  },
  {
   "cell_type": "markdown",
   "metadata": {},
   "source": [
    "### Ładowanie"
   ]
  },
  {
   "cell_type": "markdown",
   "metadata": {},
   "source": [
    "`using nazwa_pakietu`"
   ]
  },
  {
   "cell_type": "code",
   "execution_count": 1,
   "metadata": {},
   "outputs": [
    {
     "name": "stderr",
     "output_type": "stream",
     "text": [
      "┌ Info: Precompiling DataFrames [a93c6f00-e57d-5684-b7b6-d8193f3e46c0]\n",
      "└ @ Base loading.jl:1278\n"
     ]
    }
   ],
   "source": [
    "using LinearAlgebra, NLsolve, Plots, QuadGK, DataFrames # ładowanie pakietów"
   ]
  },
  {
   "cell_type": "markdown",
   "metadata": {},
   "source": [
    "## Pomoc\n",
    "\n",
    "Wpisanie pytajnika w konsoli powoduje przejścia do manuala pomocy, w którym wpisuje się nazwę, co do której chcemy uzyskać więcej informacji (np. nazwę funkcji albo typu)."
   ]
  },
  {
   "cell_type": "markdown",
   "metadata": {},
   "source": [
    "## Nazwy\n",
    "\n",
    "W nazwach dozwolone jest spora liczba znaków Unicode'a. Byłaby to jedynie ciekawostka, gdyby nie fakt, że niektóre funkcje wbudowane korzystają z tej możliwości i faktycznie używają znaków spoza ASCII. Przykładowo:"
   ]
  },
  {
   "cell_type": "code",
   "execution_count": 2,
   "metadata": {},
   "outputs": [
    {
     "data": {
      "text/plain": [
       "true"
      ]
     },
     "execution_count": 2,
     "metadata": {},
     "output_type": "execute_result"
    }
   ],
   "source": [
    "2 ≤ 2"
   ]
  },
  {
   "cell_type": "markdown",
   "metadata": {},
   "source": [
    "Wiele z takich znaków można uzyskać poprzez wpisanie znaku `\\`, następnie nazwy znaku, a następnie tabulatora. Przykładowo znak `≤` można uzyskać wpisując sekwencję znaków `\\le`, a następnie wciskając tabulator. Aby to działało, niezbędne jest wsparcie dla tego mechanizmu w używanym edytorze kodu. Nazwy znaków są zbieżne z komendami w $\\mathrm{\\LaTeX}$-u.\n",
    "\n",
    "Nazwa nie może rozpoczynać się od cyfry. Dzięki temu można stosować zapis w rodzaju:"
   ]
  },
  {
   "cell_type": "code",
   "execution_count": 3,
   "metadata": {},
   "outputs": [
    {
     "data": {
      "text/plain": [
       "12.566370614359172"
      ]
     },
     "execution_count": 3,
     "metadata": {},
     "output_type": "execute_result"
    }
   ],
   "source": [
    "4π"
   ]
  },
  {
   "cell_type": "markdown",
   "metadata": {},
   "source": [
    "Pozwala to często ominąć znak mnożenia we wzorach matematycznych."
   ]
  },
  {
   "cell_type": "markdown",
   "metadata": {},
   "source": [
    "## Typy liczbowe\n",
    "\n",
    "### Precyzja typu stałoprzecinkowego\n",
    "\n",
    "Domyślny typ stałoprzecinkowy to `Int64`. Jak nazwa wskazuje, ma on ograniczoną długość (64 bity), inaczej, niż w Pythonie, gdzie domyślny typ stałoprzecinkowy ma nieograniczoną precyzję. Dlatego też poniższe działanie powoduje przepełnienie:"
   ]
  },
  {
   "cell_type": "code",
   "execution_count": 4,
   "metadata": {},
   "outputs": [
    {
     "data": {
      "text/plain": [
       "-9223372036854775808"
      ]
     },
     "execution_count": 4,
     "metadata": {},
     "output_type": "execute_result"
    }
   ],
   "source": [
    "2^63"
   ]
  },
  {
   "cell_type": "markdown",
   "metadata": {},
   "source": [
    "W razie potrzeby możemy użyć typu o większej długości:"
   ]
  },
  {
   "cell_type": "code",
   "execution_count": 5,
   "metadata": {},
   "outputs": [
    {
     "data": {
      "text/plain": [
       "9223372036854775808"
      ]
     },
     "execution_count": 5,
     "metadata": {},
     "output_type": "execute_result"
    }
   ],
   "source": [
    "Int128(2)^63"
   ]
  },
  {
   "cell_type": "markdown",
   "metadata": {},
   "source": [
    "### Dzielenie\n",
    "\n",
    "Istnieją różne operatory dzielenia: `/` wykonuje dzielenie zmiennoprzecinkowe, a `÷` (`\\div TAB`) całkowitoliczbowe, zaś `%` modulo."
   ]
  },
  {
   "cell_type": "code",
   "execution_count": 6,
   "metadata": {},
   "outputs": [
    {
     "data": {
      "text/plain": [
       "1.25"
      ]
     },
     "execution_count": 6,
     "metadata": {},
     "output_type": "execute_result"
    }
   ],
   "source": [
    "5 / 4"
   ]
  },
  {
   "cell_type": "code",
   "execution_count": 7,
   "metadata": {},
   "outputs": [
    {
     "data": {
      "text/plain": [
       "1"
      ]
     },
     "execution_count": 7,
     "metadata": {},
     "output_type": "execute_result"
    }
   ],
   "source": [
    "5 ÷ 4"
   ]
  },
  {
   "cell_type": "code",
   "execution_count": 8,
   "metadata": {},
   "outputs": [
    {
     "data": {
      "text/plain": [
       "0"
      ]
     },
     "execution_count": 8,
     "metadata": {},
     "output_type": "execute_result"
    }
   ],
   "source": [
    "5 % 5"
   ]
  },
  {
   "cell_type": "markdown",
   "metadata": {},
   "source": [
    "## Składnia\n",
    "\n",
    "### Operatory przypisania\n",
    "\n",
    "Podobnie do Pythona, poza zwykłym przypisaniem do zmiennej znakiem `=` istnieją także `+=`, `-=`, `*=`, `%=`, oraz inne np. `÷=`.\n",
    "\n",
    "### Instrukcje złożone\n",
    "\n",
    "Instrukcje złożone (na przykład pętla `for` albo definicja funkcji `function`) kończą się słowem kluczowym `end`. Dlatego też wcięcia w takich instrukcjach są opcjonalne - zazwyczaj stosuje się je dla czytelności, jednakże nie mają one znaczenia dla parsera języka. Ponadto nie używa się dwukropka ani nawiasów klamrowych."
   ]
  },
  {
   "cell_type": "code",
   "execution_count": 9,
   "metadata": {},
   "outputs": [
    {
     "name": "stdout",
     "output_type": "stream",
     "text": [
      "i=1, jest to liczba nieparzysta\n",
      "i=2, jest to liczba parzysta\n",
      "i=3, jest to liczba nieparzysta\n",
      "i=4, jest to liczba parzysta\n",
      "i=5, jest to liczba nieparzysta\n",
      "i=6, jest to liczba parzysta\n",
      "i=7, jest to liczba nieparzysta\n",
      "i=8, jest to liczba parzysta\n",
      "i=9, jest to liczba nieparzysta\n",
      "i=10, jest to liczba parzysta\n"
     ]
    }
   ],
   "source": [
    "function printer()\n",
    "    for i in 1:10\n",
    "        print(\"i=\", i)\n",
    "        if i % 2 == 0\n",
    "            println(\", jest to liczba parzysta\")\n",
    "        else\n",
    "            println(\", jest to liczba nieparzysta\")\n",
    "        end\n",
    "    end\n",
    "end\n",
    "\n",
    "printer()"
   ]
  },
  {
   "cell_type": "markdown",
   "metadata": {},
   "source": [
    "\n",
    "### Instrukcja warunkowe"
   ]
  },
  {
   "cell_type": "markdown",
   "metadata": {},
   "source": [
    "Składa się z obowiązkowego `if`, opcjonalnych klauzul `elseif` i `else` oraz obowiązkowego `end` na końcu."
   ]
  },
  {
   "cell_type": "markdown",
   "metadata": {},
   "source": [
    "## Stringi\n",
    "\n",
    "### Indeksowanie\n",
    "\n",
    "w Julii indeksowanie łańcuchów znaków (ale także m.in. tablic) rozpoczyna się **od 1**. Choć w stringach dozwolone są znaki Unicode, jest tu pewna pułapka: nie pod każdym indeksem kryje się poprawny znak. Jest to związane z tym, że znaki Unicode mają zmienną szerokość, i niektóre mieszczą się pod jednym indeksem, inne pod 2 lub więcej kolejnymi indeksami. Dlatego też wybierając indeks \"na chybił trafił\" możemy natknąć się na środek poprzedniej litery."
   ]
  },
  {
   "cell_type": "code",
   "execution_count": 10,
   "metadata": {},
   "outputs": [
    {
     "data": {
      "text/plain": [
       "'M': ASCII/Unicode U+004D (category Lu: Letter, uppercase)"
      ]
     },
     "execution_count": 10,
     "metadata": {},
     "output_type": "execute_result"
    }
   ],
   "source": [
    "slowo = \"Mimośród\"\n",
    "slowo[1]"
   ]
  },
  {
   "cell_type": "code",
   "execution_count": 11,
   "metadata": {},
   "outputs": [
    {
     "data": {
      "text/plain": [
       "'ś': Unicode U+015B (category Ll: Letter, lowercase)"
      ]
     },
     "execution_count": 11,
     "metadata": {},
     "output_type": "execute_result"
    }
   ],
   "source": [
    "slowo[5] # uwaga Char"
   ]
  },
  {
   "cell_type": "code",
   "execution_count": 12,
   "metadata": {},
   "outputs": [
    {
     "ename": "LoadError",
     "evalue": "StringIndexError(\"Mimośród\", 6)",
     "output_type": "error",
     "traceback": [
      "StringIndexError(\"Mimośród\", 6)",
      "",
      "Stacktrace:",
      " [1] top-level scope at In[12]:1"
     ]
    }
   ],
   "source": [
    "slowo[6]"
   ]
  },
  {
   "cell_type": "markdown",
   "metadata": {},
   "source": [
    "### Interpolacja\n",
    "\n",
    "W Julii łatwo możemy umieścić w stringu wartość wyrażenia. Wystarczy w tym celu użyć znaku `$`, a następnie wpisać wyrażenie."
   ]
  },
  {
   "cell_type": "code",
   "execution_count": 13,
   "metadata": {},
   "outputs": [
    {
     "name": "stdout",
     "output_type": "stream",
     "text": [
      "Zmienna ma wartość 125\n"
     ]
    }
   ],
   "source": [
    "x = 125\n",
    "println(\"Zmienna ma wartość $x\")"
   ]
  },
  {
   "cell_type": "markdown",
   "metadata": {},
   "source": [
    "Jeśli to wyrażenie jest bardziej skomplikowane niż sama nazwa zmiennej, zapewne konieczne będzie umieszczenie wyrażenia w nawiasach:"
   ]
  },
  {
   "cell_type": "code",
   "execution_count": 14,
   "metadata": {},
   "outputs": [
    {
     "data": {
      "text/plain": [
       "\"Wartość bardziej skomplikowanego wyrażenia: 92.4\""
      ]
     },
     "execution_count": 14,
     "metadata": {},
     "output_type": "execute_result"
    }
   ],
   "source": [
    "x = 4\n",
    "y = 23\n",
    "z = 0.4\n",
    "\n",
    "\"Wartość bardziej skomplikowanego wyrażenia: $(x * y + z)\""
   ]
  },
  {
   "cell_type": "markdown",
   "metadata": {},
   "source": [
    "### Zwielokrotnienie\n",
    "\n",
    "Służy do tego operator `^`:"
   ]
  },
  {
   "cell_type": "code",
   "execution_count": 15,
   "metadata": {},
   "outputs": [
    {
     "data": {
      "text/plain": [
       "\"abcabcabc\""
      ]
     },
     "execution_count": 15,
     "metadata": {},
     "output_type": "execute_result"
    }
   ],
   "source": [
    "\"abc\" ^ 3"
   ]
  },
  {
   "cell_type": "markdown",
   "metadata": {},
   "source": [
    "### Konkatenacja\n",
    "\n",
    "Łączenie stringów wykonuje się operatorem `*`:"
   ]
  },
  {
   "cell_type": "code",
   "execution_count": 16,
   "metadata": {},
   "outputs": [
    {
     "data": {
      "text/plain": [
       "\"Ala ma kota\""
      ]
     },
     "execution_count": 16,
     "metadata": {},
     "output_type": "execute_result"
    }
   ],
   "source": [
    "poczatek = \"Ala\"\n",
    "koniec = \" ma kota\"\n",
    "poczatek * koniec"
   ]
  },
  {
   "cell_type": "markdown",
   "metadata": {},
   "source": [
    "### Niezmienność\n",
    "\n",
    "Podobnie jak Pythonie, stringów nie można modyfikować:"
   ]
  },
  {
   "cell_type": "code",
   "execution_count": 17,
   "metadata": {},
   "outputs": [
    {
     "ename": "LoadError",
     "evalue": "MethodError: no method matching setindex!(::String, ::String, ::Int64)",
     "output_type": "error",
     "traceback": [
      "MethodError: no method matching setindex!(::String, ::String, ::Int64)",
      "",
      "Stacktrace:",
      " [1] top-level scope at In[17]:2"
     ]
    }
   ],
   "source": [
    "slowo = \"Jurek\"\n",
    "slowo[1] = \"M\""
   ]
  },
  {
   "cell_type": "markdown",
   "metadata": {},
   "source": [
    "Jednakże taki zapis działa:"
   ]
  },
  {
   "cell_type": "code",
   "execution_count": 18,
   "metadata": {},
   "outputs": [
    {
     "data": {
      "text/plain": [
       "\"Grzegorz Brzęczyszczykiewicz\""
      ]
     },
     "execution_count": 18,
     "metadata": {},
     "output_type": "execute_result"
    }
   ],
   "source": [
    "imie = \"Grzegorz\"\n",
    "imie *= \" Brzęczyszczykiewicz\""
   ]
  },
  {
   "cell_type": "markdown",
   "metadata": {},
   "source": [
    "Jest to związane z tym, że w rzeczywistości tworzony jest nowy string na podstawie starego, i ten nowy jest przypisywany do zmiennej `imie`."
   ]
  },
  {
   "cell_type": "markdown",
   "metadata": {},
   "source": [
    "## Struktury"
   ]
  },
  {
   "cell_type": "markdown",
   "metadata": {},
   "source": [
    "### Krotki"
   ]
  },
  {
   "cell_type": "markdown",
   "metadata": {},
   "source": [
    "Podobnie jak w Pythonie, krotki są niezmienne i mogą przechowywać elementy różnych typów."
   ]
  },
  {
   "cell_type": "code",
   "execution_count": 19,
   "metadata": {},
   "outputs": [
    {
     "name": "stdout",
     "output_type": "stream",
     "text": [
      "a = (1, true, 'ç', \"ñ\")\n",
      "b = (1, true, 'ç', \"ñ\")\n"
     ]
    }
   ],
   "source": [
    "a = (1, true, 'ç', \"ñ\")\n",
    "b = 1, true, 'ç', \"ñ\"\n",
    "\n",
    "println(\"a = $a\\nb = $b\") # dolar w napisach pozwala na wykorzystanie zmiennej"
   ]
  },
  {
   "cell_type": "code",
   "execution_count": 20,
   "metadata": {},
   "outputs": [
    {
     "data": {
      "text/plain": [
       "Tuple{Int64,Bool,Char,String}"
      ]
     },
     "execution_count": 20,
     "metadata": {},
     "output_type": "execute_result"
    }
   ],
   "source": [
    "typeof(a)"
   ]
  },
  {
   "cell_type": "code",
   "execution_count": 21,
   "metadata": {},
   "outputs": [
    {
     "name": "stdout",
     "output_type": "stream",
     "text": [
      "c = 0 + 1im\n",
      "d = nothing\n"
     ]
    }
   ],
   "source": [
    "c, d = (1im, nothing)\n",
    "\n",
    "println(\"c = $c\\nd = $d\") # \\n znak nowego wiersza, nothing odpowiednikiem None w Pythonie"
   ]
  },
  {
   "cell_type": "markdown",
   "metadata": {},
   "source": [
    "Warto zwrócić uwagę, że `im` to jednostka zespolona."
   ]
  },
  {
   "cell_type": "markdown",
   "metadata": {},
   "source": [
    "### Słowniki"
   ]
  },
  {
   "cell_type": "markdown",
   "metadata": {},
   "source": [
    "Literał do tworzenia słownika:"
   ]
  },
  {
   "cell_type": "code",
   "execution_count": 22,
   "metadata": {},
   "outputs": [
    {
     "data": {
      "text/plain": [
       "Dict{String,Int64} with 2 entries:\n",
       "  \"b\" => 2\n",
       "  \"a\" => 1"
      ]
     },
     "execution_count": 22,
     "metadata": {},
     "output_type": "execute_result"
    }
   ],
   "source": [
    "A = Dict([(\"a\", 1), (\"b\", 2)])"
   ]
  },
  {
   "cell_type": "markdown",
   "metadata": {},
   "source": [
    "Alternatywnie zamiast zapisu `\"nazwa\"` można używać `:nazwa`:"
   ]
  },
  {
   "cell_type": "code",
   "execution_count": 23,
   "metadata": {},
   "outputs": [
    {
     "data": {
      "text/plain": [
       "Dict{Symbol,Int64} with 2 entries:\n",
       "  :a => 1\n",
       "  :b => 2"
      ]
     },
     "execution_count": 23,
     "metadata": {},
     "output_type": "execute_result"
    }
   ],
   "source": [
    "B = Dict(:a => 1, :b => 2)"
   ]
  },
  {
   "cell_type": "code",
   "execution_count": 24,
   "metadata": {},
   "outputs": [
    {
     "data": {
      "text/plain": [
       "1"
      ]
     },
     "execution_count": 24,
     "metadata": {},
     "output_type": "execute_result"
    }
   ],
   "source": [
    "A[\"a\"]"
   ]
  },
  {
   "cell_type": "code",
   "execution_count": 25,
   "metadata": {},
   "outputs": [
    {
     "data": {
      "text/plain": [
       "2"
      ]
     },
     "execution_count": 25,
     "metadata": {},
     "output_type": "execute_result"
    }
   ],
   "source": [
    "B[:b]"
   ]
  },
  {
   "cell_type": "markdown",
   "metadata": {},
   "source": [
    "## Funkcje\n",
    "\n",
    "### Multiple dispatch\n",
    "\n",
    "W Julii nie ma metod w rozumieniu języków obiektowo orientowanych. Nie jest więc również używana typowa dla takich języków składnia `obiekt.metoda(argumenty)`. Mianem *metody* nazywa się implementację funkcji o określonej nazwie. Dozwolonych jest wiele metod tej samej funkcji - mogą one koegzystować, pod warunkiem, że ich sygnatury nie są identyczne."
   ]
  },
  {
   "cell_type": "code",
   "execution_count": 26,
   "metadata": {},
   "outputs": [
    {
     "data": {
      "text/plain": [
       "foo (generic function with 3 methods)"
      ]
     },
     "execution_count": 26,
     "metadata": {},
     "output_type": "execute_result"
    }
   ],
   "source": [
    "function foo(x::Int, y::String)\n",
    "    println(y^x)\n",
    "end\n",
    "\n",
    "function foo(y::String, x::Int=0)\n",
    "    println(y * \" + \" * string(x))\n",
    "end"
   ]
  },
  {
   "cell_type": "markdown",
   "metadata": {},
   "source": [
    "Typ można wyspecyfikować za pomocą operatora `::` (nie jest to obowiązkowe). Dodatkowo argumentom można ustawić domyślne wartości.\n",
    "\n",
    "Mechanizm, który decyduje, która implementacja funkcji zostanie uruchomiona na potrzeby konkretnych argumentów nazywa się *Multiple Dispatch* i jest jedną z kluczowych cech języka Julia. Mechanizm ten jest bardzo szybki, do tego daje większą elastyczność niż metody z obiektowych języków programowania (co częściowo widać na poniższym przykładzie):"
   ]
  },
  {
   "cell_type": "code",
   "execution_count": 27,
   "metadata": {},
   "outputs": [
    {
     "name": "stdout",
     "output_type": "stream",
     "text": [
      "wielewielewielewielewiele\n",
      "spam + 5\n",
      "test + 0\n"
     ]
    }
   ],
   "source": [
    "foo(5, \"wiele\")\n",
    "foo(\"spam\", 5)\n",
    "foo(\"test\")"
   ]
  },
  {
   "cell_type": "markdown",
   "metadata": {},
   "source": [
    "Typy obiektów, na jakich będzie pracować dana funkcja, nie muszą jeszcze istnieć w momencie jej tworzenia, a ponadto nie ma obowiązku tworzenia wszystkich metod danej funkcji jednocześnie. Można na przykład dodać metodę do istniejącej funkcji wbudowanej, tak, żeby obsłużyć własne typy bądź zmienić dla wybranych typów domyślne zachowanie."
   ]
  },
  {
   "cell_type": "markdown",
   "metadata": {},
   "source": [
    "### Wartość zwracana\n",
    "\n",
    "Wartość zwracaną funkcji można jawnie określić słowem kluczowym `return`. Jest ono jednak opcjonalne, i jeśli nie występuje, wartością zwracaną funkcji jest wartość ostatniego wyrażenia w tej funkcji:"
   ]
  },
  {
   "cell_type": "code",
   "execution_count": 28,
   "metadata": {},
   "outputs": [
    {
     "data": {
      "text/plain": [
       "average (generic function with 1 method)"
      ]
     },
     "execution_count": 28,
     "metadata": {},
     "output_type": "execute_result"
    }
   ],
   "source": [
    "function average(x, y)\n",
    "    (x + y) / 2\n",
    "end"
   ]
  },
  {
   "cell_type": "code",
   "execution_count": 29,
   "metadata": {},
   "outputs": [
    {
     "data": {
      "text/plain": [
       "3.5"
      ]
     },
     "execution_count": 29,
     "metadata": {},
     "output_type": "execute_result"
    }
   ],
   "source": [
    "average(2, 5)"
   ]
  },
  {
   "cell_type": "markdown",
   "metadata": {},
   "source": [
    "Alternatywnie można funkcję zdefiniować tak (tzw. jednolinijkowa notacja):"
   ]
  },
  {
   "cell_type": "code",
   "execution_count": 30,
   "metadata": {},
   "outputs": [
    {
     "data": {
      "text/plain": [
       "average (generic function with 1 method)"
      ]
     },
     "execution_count": 30,
     "metadata": {},
     "output_type": "execute_result"
    }
   ],
   "source": [
    "average(x, y) = (x +y)/2"
   ]
  },
  {
   "cell_type": "code",
   "execution_count": 31,
   "metadata": {},
   "outputs": [
    {
     "data": {
      "text/plain": [
       "3.5"
      ]
     },
     "execution_count": 31,
     "metadata": {},
     "output_type": "execute_result"
    }
   ],
   "source": [
    "average(2, 5)"
   ]
  },
  {
   "cell_type": "markdown",
   "metadata": {},
   "source": [
    "Jeśli nie chcemy, żeby funkcja zwracała cokolwiek (a ostatnie wyrażenie zwraca wartość), możemy użyć `return nothing`:"
   ]
  },
  {
   "cell_type": "code",
   "execution_count": 32,
   "metadata": {},
   "outputs": [
    {
     "data": {
      "text/plain": [
       "do_nothing (generic function with 1 method)"
      ]
     },
     "execution_count": 32,
     "metadata": {},
     "output_type": "execute_result"
    }
   ],
   "source": [
    "function do_nothing(x, y)\n",
    "    x * y\n",
    "    return nothing\n",
    "end"
   ]
  },
  {
   "cell_type": "code",
   "execution_count": 33,
   "metadata": {},
   "outputs": [
    {
     "name": "stdout",
     "output_type": "stream",
     "text": [
      "nothing\n"
     ]
    }
   ],
   "source": [
    "x = do_nothing(5, 6)\n",
    "println(x)"
   ]
  },
  {
   "cell_type": "markdown",
   "metadata": {},
   "source": [
    "### Wektoryzacja"
   ]
  },
  {
   "cell_type": "markdown",
   "metadata": {},
   "source": [
    "Aby zaaplikować funkcję do wszystkich elementów danego obiektu iterowalnego (np. wektora) można użyć składni z kropką: `nazwafunkcji.(kolekcja)`."
   ]
  },
  {
   "cell_type": "code",
   "execution_count": 34,
   "metadata": {},
   "outputs": [
    {
     "data": {
      "text/plain": [
       "square (generic function with 1 method)"
      ]
     },
     "execution_count": 34,
     "metadata": {},
     "output_type": "execute_result"
    }
   ],
   "source": [
    "function square(x)\n",
    "    return x ^ 2\n",
    "end"
   ]
  },
  {
   "cell_type": "code",
   "execution_count": 35,
   "metadata": {},
   "outputs": [
    {
     "data": {
      "text/plain": [
       "3-element Array{Int64,1}:\n",
       " 1\n",
       " 2\n",
       " 3"
      ]
     },
     "execution_count": 35,
     "metadata": {},
     "output_type": "execute_result"
    }
   ],
   "source": [
    "v = [1, 2, 3]"
   ]
  },
  {
   "cell_type": "code",
   "execution_count": 36,
   "metadata": {},
   "outputs": [
    {
     "data": {
      "text/plain": [
       "3-element Array{Int64,1}:\n",
       " 1\n",
       " 4\n",
       " 9"
      ]
     },
     "execution_count": 36,
     "metadata": {},
     "output_type": "execute_result"
    }
   ],
   "source": [
    "square.(v)"
   ]
  },
  {
   "cell_type": "markdown",
   "metadata": {},
   "source": [
    "Bez zapisu z kropką to nie zadziała:"
   ]
  },
  {
   "cell_type": "code",
   "execution_count": 37,
   "metadata": {},
   "outputs": [
    {
     "ename": "LoadError",
     "evalue": "MethodError: no method matching ^(::Array{Int64,1}, ::Int64)\nClosest candidates are:\n  ^(!Matched::Missing, ::Integer) at missing.jl:155\n  ^(!Matched::Missing, ::Number) at missing.jl:115\n  ^(!Matched::Irrational{:ℯ}, ::Integer) at mathconstants.jl:91\n  ...",
     "output_type": "error",
     "traceback": [
      "MethodError: no method matching ^(::Array{Int64,1}, ::Int64)\nClosest candidates are:\n  ^(!Matched::Missing, ::Integer) at missing.jl:155\n  ^(!Matched::Missing, ::Number) at missing.jl:115\n  ^(!Matched::Irrational{:ℯ}, ::Integer) at mathconstants.jl:91\n  ...",
      "",
      "Stacktrace:",
      " [1] macro expansion at ./none:0 [inlined]",
      " [2] literal_pow at ./none:0 [inlined]",
      " [3] square(::Array{Int64,1}) at ./In[34]:2",
      " [4] top-level scope at In[37]:1"
     ]
    }
   ],
   "source": [
    "square(v)"
   ]
  },
  {
   "cell_type": "markdown",
   "metadata": {},
   "source": [
    "Co więcej, można tego rozwiązania także użyć w przypadku funkcji przyjmujących więcej niż 1 argument:"
   ]
  },
  {
   "cell_type": "code",
   "execution_count": 38,
   "metadata": {},
   "outputs": [
    {
     "data": {
      "text/plain": [
       "funkcja (generic function with 1 method)"
      ]
     },
     "execution_count": 38,
     "metadata": {},
     "output_type": "execute_result"
    }
   ],
   "source": [
    "function funkcja(x, y)\n",
    "    z = (x+y)*x*y\n",
    "    return z\n",
    "end"
   ]
  },
  {
   "cell_type": "code",
   "execution_count": 39,
   "metadata": {},
   "outputs": [
    {
     "data": {
      "text/plain": [
       "2-element Array{Int64,1}:\n",
       "  6\n",
       " 30"
      ]
     },
     "execution_count": 39,
     "metadata": {},
     "output_type": "execute_result"
    }
   ],
   "source": [
    "funkcja.([1,2], [2,3]) # bardzo prosta modyfikacja"
   ]
  },
  {
   "cell_type": "markdown",
   "metadata": {},
   "source": [
    "Funkcje mogą zwracać więcej niż jedną wartość używając krotki:"
   ]
  },
  {
   "cell_type": "code",
   "execution_count": 40,
   "metadata": {},
   "outputs": [
    {
     "data": {
      "text/plain": [
       "(0.5216069591318861, 4.937072972666101e-11)"
      ]
     },
     "execution_count": 40,
     "metadata": {},
     "output_type": "execute_result"
    }
   ],
   "source": [
    "# using QuadGK\n",
    "f(x) = exp(-x) * cos(x)\n",
    "quadgk(f, 0, pi)"
   ]
  },
  {
   "cell_type": "markdown",
   "metadata": {},
   "source": [
    "## Tensory\n",
    "\n",
    "Julia nie ma oddzielnego typu wbudowanego dla tablic jednowymiarowych - zamiast tego używa się tensora (odpowiednika `numpy.array`). W szczególności więc jednowymiarowy tensor jest wektorem.\n",
    "\n",
    "Tensor może przechowywać wyłącznie wartości określonego typu. W szczególności typem tym może być `Any` - wtedy przechowywane wartości mogą być dowolnego typu. Zazwyczaj jednak korzysta się z bardziej specyficznego typu (np. `Float64`), co pozwala Julii zoptymalizować kod."
   ]
  },
  {
   "cell_type": "markdown",
   "metadata": {},
   "source": [
    "### Tworzenie wektorów"
   ]
  },
  {
   "cell_type": "markdown",
   "metadata": {},
   "source": [
    "Literał na utworzenie wektora:"
   ]
  },
  {
   "cell_type": "code",
   "execution_count": 41,
   "metadata": {},
   "outputs": [
    {
     "data": {
      "text/plain": [
       "3-element Array{Int64,1}:\n",
       " 1\n",
       " 2\n",
       " 3"
      ]
     },
     "execution_count": 41,
     "metadata": {},
     "output_type": "execute_result"
    }
   ],
   "source": [
    "x = [1, 2, 3]"
   ]
  },
  {
   "cell_type": "markdown",
   "metadata": {},
   "source": [
    "`Array{Int64,1}` informuje nas o tym, że mamy do czynienia z tensorem przechowującym typ `Int64` i wymiarze 1 (czyli jest to wektor). Domyślnie w Julii wektory są pionowe.\n",
    "\n",
    "W tym przykładzie jedna z liczb jest typu zmiennoprzecinkowego, więc nastąpi konwersja wszystkich liczb na typ zmiennoprzecinkowy:"
   ]
  },
  {
   "cell_type": "code",
   "execution_count": 42,
   "metadata": {},
   "outputs": [
    {
     "data": {
      "text/plain": [
       "3-element Array{Float64,1}:\n",
       " 1.0\n",
       " 2.0\n",
       " 3.0"
      ]
     },
     "execution_count": 42,
     "metadata": {},
     "output_type": "execute_result"
    }
   ],
   "source": [
    "x = [1, 2.0, 3]"
   ]
  },
  {
   "cell_type": "markdown",
   "metadata": {},
   "source": [
    "Alternatywne sposoby utworzenia wektora z wykorzystaniem wycinka:"
   ]
  },
  {
   "cell_type": "code",
   "execution_count": 43,
   "metadata": {},
   "outputs": [
    {
     "data": {
      "text/plain": [
       "3-element Array{Int64,1}:\n",
       " 1\n",
       " 2\n",
       " 3"
      ]
     },
     "execution_count": 43,
     "metadata": {},
     "output_type": "execute_result"
    }
   ],
   "source": [
    "a = collect(1:3) # odpowienik range Pythona, range w Julii jest odpowiedniki np.linspace"
   ]
  },
  {
   "cell_type": "code",
   "execution_count": 44,
   "metadata": {},
   "outputs": [
    {
     "data": {
      "text/plain": [
       "3-element Array{Int64,1}:\n",
       " 1\n",
       " 2\n",
       " 3"
      ]
     },
     "execution_count": 44,
     "metadata": {},
     "output_type": "execute_result"
    }
   ],
   "source": [
    "b = [1:3...]"
   ]
  },
  {
   "cell_type": "markdown",
   "metadata": {},
   "source": [
    "Odpowiednik listy składanej (list comprehension) Pythona:"
   ]
  },
  {
   "cell_type": "code",
   "execution_count": 45,
   "metadata": {},
   "outputs": [
    {
     "data": {
      "text/plain": [
       "3-element Array{Int64,1}:\n",
       " 1\n",
       " 2\n",
       " 3"
      ]
     },
     "execution_count": 45,
     "metadata": {},
     "output_type": "execute_result"
    }
   ],
   "source": [
    "c = [i for i in 1:3] # tu właśnie nie trzeba end"
   ]
  },
  {
   "cell_type": "markdown",
   "metadata": {},
   "source": [
    "### Tworzenie macierzy"
   ]
  },
  {
   "cell_type": "markdown",
   "metadata": {},
   "source": [
    "Zapisując literał macierzy nie używamy przecinków - kolejne elementy w danym wierszu oddzielamy spacją, a przejście do nowego wiersza robi się znakiem nowej linii lub średnikiem."
   ]
  },
  {
   "cell_type": "code",
   "execution_count": 46,
   "metadata": {},
   "outputs": [
    {
     "data": {
      "text/plain": [
       "2×3 Array{Int64,2}:\n",
       " 1  2  3\n",
       " 4  5  6"
      ]
     },
     "execution_count": 46,
     "metadata": {},
     "output_type": "execute_result"
    }
   ],
   "source": [
    "A = [1 2 3; 4 5 6]"
   ]
  },
  {
   "cell_type": "markdown",
   "metadata": {},
   "source": [
    "Uwaga: pod zmienną `e` znajdzie się jednowierszowa macierz, nie wektor. Można się o tym przekonać, patrząc na wymiar tej macierzy (`2`)."
   ]
  },
  {
   "cell_type": "code",
   "execution_count": 47,
   "metadata": {},
   "outputs": [
    {
     "data": {
      "text/plain": [
       "1×3 Array{Int64,2}:\n",
       " 1  2  3"
      ]
     },
     "execution_count": 47,
     "metadata": {},
     "output_type": "execute_result"
    }
   ],
   "source": [
    "e = [1 2 3]"
   ]
  },
  {
   "cell_type": "markdown",
   "metadata": {},
   "source": [
    "Uwaga: poniższy zapis produkuje wektor, nie jednokolumnową macierz:"
   ]
  },
  {
   "cell_type": "code",
   "execution_count": 48,
   "metadata": {},
   "outputs": [
    {
     "data": {
      "text/plain": [
       "3-element Array{Int64,1}:\n",
       " 1\n",
       " 2\n",
       " 3"
      ]
     },
     "execution_count": 48,
     "metadata": {},
     "output_type": "execute_result"
    }
   ],
   "source": [
    "v = [1; 2; 3]"
   ]
  },
  {
   "cell_type": "markdown",
   "metadata": {},
   "source": [
    "Jest to swoista niekonsekwencja względem poprzedniego przykładu, gdzie otrzymaliśmy jednowierszową macierz, a nie wektor (poziomy lub pionowy)."
   ]
  },
  {
   "cell_type": "markdown",
   "metadata": {},
   "source": [
    "Uwaga: domyślnie macierz w Julii jest przechowywana \"kolumnami\" (odwrotnie niż w NumPy), co jest istotne np. w przypadku indeksowania spłaszczonej macierzy lub gdy używamy funkcji `reshape`:"
   ]
  },
  {
   "cell_type": "code",
   "execution_count": 49,
   "metadata": {},
   "outputs": [
    {
     "data": {
      "text/plain": [
       "4×2 Array{Int64,2}:\n",
       " 1  5\n",
       " 2  6\n",
       " 3  7\n",
       " 4  8"
      ]
     },
     "execution_count": 49,
     "metadata": {},
     "output_type": "execute_result"
    }
   ],
   "source": [
    "reshape([1, 2, 3, 4, 5, 6, 7, 8], 4, 2)"
   ]
  },
  {
   "cell_type": "markdown",
   "metadata": {},
   "source": [
    "### Transpozycja"
   ]
  },
  {
   "cell_type": "markdown",
   "metadata": {},
   "source": [
    "Transpozycję wykonuje się znakiem `'` (pojedynczy apostrof) po nazwie macierzy."
   ]
  },
  {
   "cell_type": "code",
   "execution_count": 50,
   "metadata": {},
   "outputs": [
    {
     "data": {
      "text/plain": [
       "3×2 Adjoint{Int64,Array{Int64,2}}:\n",
       " 1  4\n",
       " 2  5\n",
       " 3  6"
      ]
     },
     "execution_count": 50,
     "metadata": {},
     "output_type": "execute_result"
    }
   ],
   "source": [
    "A' # transpozycja"
   ]
  },
  {
   "cell_type": "markdown",
   "metadata": {},
   "source": [
    "Transpozycja działa również na wektorach: zamienia wektor pionowy (domyślny) na poziomy i odwrotnie."
   ]
  },
  {
   "cell_type": "code",
   "execution_count": 51,
   "metadata": {},
   "outputs": [
    {
     "data": {
      "text/plain": [
       "1×3 Adjoint{Int64,Array{Int64,1}}:\n",
       " 1  2  3"
      ]
     },
     "execution_count": 51,
     "metadata": {},
     "output_type": "execute_result"
    }
   ],
   "source": [
    "v'"
   ]
  },
  {
   "cell_type": "code",
   "execution_count": 52,
   "metadata": {},
   "outputs": [
    {
     "data": {
      "text/plain": [
       "3-element Array{Int64,1}:\n",
       " 1\n",
       " 2\n",
       " 3"
      ]
     },
     "execution_count": 52,
     "metadata": {},
     "output_type": "execute_result"
    }
   ],
   "source": [
    "v''"
   ]
  },
  {
   "cell_type": "markdown",
   "metadata": {},
   "source": [
    "### Mnożenie macierzowe"
   ]
  },
  {
   "cell_type": "markdown",
   "metadata": {},
   "source": [
    "\n",
    "\n",
    "Julia operatorem `*` wykonuje na tensorach mnożenie macierzowe:"
   ]
  },
  {
   "cell_type": "code",
   "execution_count": 53,
   "metadata": {},
   "outputs": [
    {
     "data": {
      "text/plain": [
       "2-element Array{Int64,1}:\n",
       " 14\n",
       " 32"
      ]
     },
     "execution_count": 53,
     "metadata": {},
     "output_type": "execute_result"
    }
   ],
   "source": [
    "B = A * a"
   ]
  },
  {
   "cell_type": "markdown",
   "metadata": {},
   "source": [
    "Pilnuje także, aby wymiary przy mnożeniu się zgadzały:"
   ]
  },
  {
   "cell_type": "code",
   "execution_count": 54,
   "metadata": {},
   "outputs": [
    {
     "ename": "LoadError",
     "evalue": "DimensionMismatch(\"matrix A has dimensions (3,1), matrix B has dimensions (2,3)\")",
     "output_type": "error",
     "traceback": [
      "DimensionMismatch(\"matrix A has dimensions (3,1), matrix B has dimensions (2,3)\")",
      "",
      "Stacktrace:",
      " [1] _generic_matmatmul!(::Array{Int64,2}, ::Char, ::Char, ::Array{Int64,2}, ::Array{Int64,2}, ::LinearAlgebra.MulAddMul{true,true,Bool,Bool}) at /build/julia/src/julia-1.5.3/usr/share/julia/stdlib/v1.5/LinearAlgebra/src/matmul.jl:740",
      " [2] generic_matmatmul!(::Array{Int64,2}, ::Char, ::Char, ::Array{Int64,2}, ::Array{Int64,2}, ::LinearAlgebra.MulAddMul{true,true,Bool,Bool}) at /build/julia/src/julia-1.5.3/usr/share/julia/stdlib/v1.5/LinearAlgebra/src/matmul.jl:728",
      " [3] mul! at /build/julia/src/julia-1.5.3/usr/share/julia/stdlib/v1.5/LinearAlgebra/src/matmul.jl:235 [inlined]",
      " [4] mul! at /build/julia/src/julia-1.5.3/usr/share/julia/stdlib/v1.5/LinearAlgebra/src/matmul.jl:208 [inlined]",
      " [5] * at /build/julia/src/julia-1.5.3/usr/share/julia/stdlib/v1.5/LinearAlgebra/src/matmul.jl:153 [inlined]",
      " [6] *(::Array{Int64,1}, ::Array{Int64,2}) at /build/julia/src/julia-1.5.3/usr/share/julia/stdlib/v1.5/LinearAlgebra/src/matmul.jl:63",
      " [7] top-level scope at In[54]:1"
     ]
    }
   ],
   "source": [
    "C = a * A "
   ]
  },
  {
   "cell_type": "code",
   "execution_count": 55,
   "metadata": {},
   "outputs": [
    {
     "data": {
      "text/plain": [
       "3×3 Array{Int64,2}:\n",
       " 1  2  3\n",
       " 2  4  6\n",
       " 3  6  9"
      ]
     },
     "execution_count": 55,
     "metadata": {},
     "output_type": "execute_result"
    }
   ],
   "source": [
    "D = a * e"
   ]
  },
  {
   "cell_type": "code",
   "execution_count": 56,
   "metadata": {},
   "outputs": [
    {
     "data": {
      "text/plain": [
       "1-element Array{Int64,1}:\n",
       " 14"
      ]
     },
     "execution_count": 56,
     "metadata": {},
     "output_type": "execute_result"
    }
   ],
   "source": [
    "E = e * a"
   ]
  },
  {
   "cell_type": "markdown",
   "metadata": {},
   "source": [
    "### Operacje na macierzy / poszczególnych elementach"
   ]
  },
  {
   "cell_type": "markdown",
   "metadata": {},
   "source": [
    "W ogólności operatory Julii wykonują operacje na całych tensorach, a nie na odpowiadających sobie pojedynczych elementach z macierzy (jak w bibliotece `NumPy`)."
   ]
  },
  {
   "cell_type": "code",
   "execution_count": 57,
   "metadata": {},
   "outputs": [
    {
     "ename": "LoadError",
     "evalue": "MethodError: no method matching +(::Array{Int64,2}, ::Int64)\nFor element-wise addition, use broadcasting with dot syntax: array .+ scalar\nClosest candidates are:\n  +(::Any, ::Any, !Matched::Any, !Matched::Any...) at operators.jl:538\n  +(!Matched::Missing, ::Number) at missing.jl:115\n  +(!Matched::Base.CoreLogging.LogLevel, ::Integer) at logging.jl:116\n  ...",
     "output_type": "error",
     "traceback": [
      "MethodError: no method matching +(::Array{Int64,2}, ::Int64)\nFor element-wise addition, use broadcasting with dot syntax: array .+ scalar\nClosest candidates are:\n  +(::Any, ::Any, !Matched::Any, !Matched::Any...) at operators.jl:538\n  +(!Matched::Missing, ::Number) at missing.jl:115\n  +(!Matched::Base.CoreLogging.LogLevel, ::Integer) at logging.jl:116\n  ...",
      "",
      "Stacktrace:",
      " [1] top-level scope at In[57]:1"
     ]
    }
   ],
   "source": [
    "A + 1"
   ]
  },
  {
   "cell_type": "markdown",
   "metadata": {},
   "source": [
    "Jeśli oczekujemy, aby operator zadziałał na poszczególnych elementach zamiast na całości, możemy użyć składni wektoryzacji, czyli znaku kropki przez operatorem:"
   ]
  },
  {
   "cell_type": "code",
   "execution_count": 58,
   "metadata": {},
   "outputs": [
    {
     "data": {
      "text/plain": [
       "2×3 Array{Int64,2}:\n",
       " 2  3  4\n",
       " 5  6  7"
      ]
     },
     "execution_count": 58,
     "metadata": {},
     "output_type": "execute_result"
    }
   ],
   "source": [
    "A .+ 1"
   ]
  },
  {
   "cell_type": "markdown",
   "metadata": {},
   "source": [
    "Tutaj również mamy podniesienie całej macierzy do kwadratu, a nie jej poszczególnych elementów:"
   ]
  },
  {
   "cell_type": "code",
   "execution_count": 59,
   "metadata": {},
   "outputs": [
    {
     "data": {
      "text/plain": [
       "3×3 Array{Int64,2}:\n",
       " 1  2  3\n",
       " 4  5  6\n",
       " 7  8  9"
      ]
     },
     "execution_count": 59,
     "metadata": {},
     "output_type": "execute_result"
    }
   ],
   "source": [
    "G = [1 2 3; 4 5 6; 7 8 9]"
   ]
  },
  {
   "cell_type": "code",
   "execution_count": 60,
   "metadata": {},
   "outputs": [
    {
     "data": {
      "text/plain": [
       "3×3 Array{Int64,2}:\n",
       "  30   36   42\n",
       "  66   81   96\n",
       " 102  126  150"
      ]
     },
     "execution_count": 60,
     "metadata": {},
     "output_type": "execute_result"
    }
   ],
   "source": [
    "G^2"
   ]
  },
  {
   "cell_type": "markdown",
   "metadata": {},
   "source": [
    "Jeśli chcemy podnieść poszczególne elementy do kwadratu, możemy użyć zwektoryzowanego operatora:"
   ]
  },
  {
   "cell_type": "code",
   "execution_count": 61,
   "metadata": {},
   "outputs": [
    {
     "data": {
      "text/plain": [
       "3×3 Array{Int64,2}:\n",
       "  1   4   9\n",
       " 16  25  36\n",
       " 49  64  81"
      ]
     },
     "execution_count": 61,
     "metadata": {},
     "output_type": "execute_result"
    }
   ],
   "source": [
    "G .^2 #inny wynik, bo to jest podnoszenie elementów do kwadratu"
   ]
  },
  {
   "cell_type": "markdown",
   "metadata": {},
   "source": [
    "Julia potrafi poprawnie obliczyć wartość wyrażenia $\\mathrm{e}^\\mathbf{A}$, gdzie $A$ jest macierzą."
   ]
  },
  {
   "cell_type": "code",
   "execution_count": 62,
   "metadata": {},
   "outputs": [
    {
     "data": {
      "text/plain": [
       "3×3 Array{Float64,2}:\n",
       " 1.11891e6  1.37482e6  1.63072e6\n",
       " 2.53388e6  3.11342e6  3.69295e6\n",
       " 3.94886e6  4.85201e6  5.75517e6"
      ]
     },
     "execution_count": 62,
     "metadata": {},
     "output_type": "execute_result"
    }
   ],
   "source": [
    "exp(G) # jak wcześniej"
   ]
  },
  {
   "cell_type": "markdown",
   "metadata": {},
   "source": [
    "Nie jest to to samo, co liczenie \"element po elemencie\":"
   ]
  },
  {
   "cell_type": "code",
   "execution_count": 63,
   "metadata": {},
   "outputs": [
    {
     "data": {
      "text/plain": [
       "3×3 Array{Float64,2}:\n",
       "    2.71828     7.38906    20.0855\n",
       "   54.5982    148.413     403.429\n",
       " 1096.63     2980.96     8103.08"
      ]
     },
     "execution_count": 63,
     "metadata": {},
     "output_type": "execute_result"
    }
   ],
   "source": [
    "exp.(G) # bo to jest liczenie eksponenty poszczególnych elementów"
   ]
  },
  {
   "cell_type": "markdown",
   "metadata": {},
   "source": [
    "### Indeksowanie"
   ]
  },
  {
   "cell_type": "markdown",
   "metadata": {},
   "source": [
    "Poniższe przykłady odnoszą się do macierzy, jednakże w analogiczny sposób wykonuje się indeksowanie w większej liczbie wymiarów niż 2."
   ]
  },
  {
   "cell_type": "code",
   "execution_count": 64,
   "metadata": {},
   "outputs": [
    {
     "data": {
      "text/plain": [
       "3×3 Array{Int64,2}:\n",
       " 1  2  3\n",
       " 4  5  6\n",
       " 7  8  9"
      ]
     },
     "execution_count": 64,
     "metadata": {},
     "output_type": "execute_result"
    }
   ],
   "source": [
    "G"
   ]
  },
  {
   "cell_type": "markdown",
   "metadata": {},
   "source": [
    "Aby wybrać konkretny element macierzy stosujemy notację `Macierz[wiersz, kolumna]`:"
   ]
  },
  {
   "cell_type": "code",
   "execution_count": 65,
   "metadata": {},
   "outputs": [
    {
     "data": {
      "text/plain": [
       "6"
      ]
     },
     "execution_count": 65,
     "metadata": {},
     "output_type": "execute_result"
    }
   ],
   "source": [
    "G[2, 3]"
   ]
  },
  {
   "cell_type": "markdown",
   "metadata": {},
   "source": [
    "Możemy wybrać więcej, niż jeden wiersz (lub kolumnę):"
   ]
  },
  {
   "cell_type": "code",
   "execution_count": 66,
   "metadata": {},
   "outputs": [
    {
     "data": {
      "text/plain": [
       "2-element Array{Int64,1}:\n",
       " 3\n",
       " 6"
      ]
     },
     "execution_count": 66,
     "metadata": {},
     "output_type": "execute_result"
    }
   ],
   "source": [
    "G[[1,2], 3]"
   ]
  },
  {
   "cell_type": "markdown",
   "metadata": {},
   "source": [
    "Ostatni element w danym wymiarze jest dostępny za pomocą słowa kluczowego `end`:"
   ]
  },
  {
   "cell_type": "code",
   "execution_count": 67,
   "metadata": {},
   "outputs": [
    {
     "data": {
      "text/plain": [
       "7"
      ]
     },
     "execution_count": 67,
     "metadata": {},
     "output_type": "execute_result"
    }
   ],
   "source": [
    "G[end, 1]"
   ]
  },
  {
   "cell_type": "markdown",
   "metadata": {},
   "source": [
    "Jeśli chcemy wybrać wszystkie elementy z danego wymiaru, wpisujemy `:`. Przykładowo poniżej wybranie elementów z wszystkich wierszy drugiej kolumny:"
   ]
  },
  {
   "cell_type": "code",
   "execution_count": 68,
   "metadata": {},
   "outputs": [
    {
     "data": {
      "text/plain": [
       "3-element Array{Int64,1}:\n",
       " 2\n",
       " 5\n",
       " 8"
      ]
     },
     "execution_count": 68,
     "metadata": {},
     "output_type": "execute_result"
    }
   ],
   "source": [
    "G[:, 2] # druga kolumna"
   ]
  },
  {
   "cell_type": "markdown",
   "metadata": {},
   "source": [
    "Wybranie wszystkich elementów z drugiego wiersza:"
   ]
  },
  {
   "cell_type": "code",
   "execution_count": 69,
   "metadata": {},
   "outputs": [
    {
     "data": {
      "text/plain": [
       "3-element Array{Int64,1}:\n",
       " 4\n",
       " 5\n",
       " 6"
      ]
     },
     "execution_count": 69,
     "metadata": {},
     "output_type": "execute_result"
    }
   ],
   "source": [
    "G[2, :] # drugi wiersz"
   ]
  },
  {
   "cell_type": "markdown",
   "metadata": {},
   "source": [
    "Uwaga: wybierając wszystkie elementy z danego wiersza bądź danej kolumny następuje redukcja otrzymujemy w obu przypadkach wektor pionowy."
   ]
  },
  {
   "cell_type": "markdown",
   "metadata": {},
   "source": [
    "### Modyfikacja tensora"
   ]
  },
  {
   "cell_type": "markdown",
   "metadata": {},
   "source": [
    "Domyślnie tensory można modyfikować:"
   ]
  },
  {
   "cell_type": "code",
   "execution_count": 70,
   "metadata": {},
   "outputs": [
    {
     "data": {
      "text/plain": [
       "0"
      ]
     },
     "execution_count": 70,
     "metadata": {},
     "output_type": "execute_result"
    }
   ],
   "source": [
    "G[1,1] = 0 # podmiana"
   ]
  },
  {
   "cell_type": "code",
   "execution_count": 71,
   "metadata": {},
   "outputs": [
    {
     "data": {
      "text/plain": [
       "3×3 Array{Int64,2}:\n",
       " 0  2  3\n",
       " 4  5  6\n",
       " 7  8  9"
      ]
     },
     "execution_count": 71,
     "metadata": {},
     "output_type": "execute_result"
    }
   ],
   "source": [
    "G"
   ]
  },
  {
   "cell_type": "markdown",
   "metadata": {},
   "source": [
    "Element na koniec wektora można dodać funkcją `append!`:"
   ]
  },
  {
   "cell_type": "code",
   "execution_count": 72,
   "metadata": {},
   "outputs": [
    {
     "data": {
      "text/plain": [
       "3-element Array{Int64,1}:\n",
       " 1\n",
       " 2\n",
       " 3"
      ]
     },
     "execution_count": 72,
     "metadata": {},
     "output_type": "execute_result"
    }
   ],
   "source": [
    "b"
   ]
  },
  {
   "cell_type": "code",
   "execution_count": 73,
   "metadata": {},
   "outputs": [
    {
     "data": {
      "text/plain": [
       "4-element Array{Int64,1}:\n",
       " 1\n",
       " 2\n",
       " 3\n",
       " 4"
      ]
     },
     "execution_count": 73,
     "metadata": {},
     "output_type": "execute_result"
    }
   ],
   "source": [
    "append!(b, 4) # dodanie 4 do wektora"
   ]
  },
  {
   "cell_type": "markdown",
   "metadata": {},
   "source": [
    "Wstawienie elementu na innej pozycji niż ostatnia można zrobić funkcją `insert!`:"
   ]
  },
  {
   "cell_type": "code",
   "execution_count": 74,
   "metadata": {},
   "outputs": [
    {
     "data": {
      "text/plain": [
       "5-element Array{Int64,1}:\n",
       " 1\n",
       " 2\n",
       " 0\n",
       " 3\n",
       " 4"
      ]
     },
     "execution_count": 74,
     "metadata": {},
     "output_type": "execute_result"
    }
   ],
   "source": [
    "insert!(b, 3, 0)"
   ]
  },
  {
   "cell_type": "markdown",
   "metadata": {},
   "source": [
    "Iloczyn skalarny między wektorami można policzyć za pomocą funkcji `dot` z pakietu `LinearAlgebra` lub operatora ⋅ (`\\cdot TAB`):"
   ]
  },
  {
   "cell_type": "code",
   "execution_count": 75,
   "metadata": {},
   "outputs": [
    {
     "name": "stdout",
     "output_type": "stream",
     "text": [
      "11\n",
      "11\n"
     ]
    }
   ],
   "source": [
    "# using LinearAlgebra\n",
    "\n",
    "println(dot([1 2], [3 4]))\n",
    "println([1, 2] ⋅ [3, 4])"
   ]
  },
  {
   "cell_type": "markdown",
   "metadata": {},
   "source": [
    "## Wycinek"
   ]
  },
  {
   "cell_type": "markdown",
   "metadata": {},
   "source": [
    "Wycinek jest obiektem, który może posłużyć do generacji ciągu liczb. Wycinka można także użyć, aby pobrać fragment tensora, stringa itp.\n",
    "\n",
    "Składnia wycinka to `początek:koniec` (koniec włącznie, inaczej, niż w funkcji `range` Pythona)."
   ]
  },
  {
   "cell_type": "code",
   "execution_count": 76,
   "metadata": {},
   "outputs": [
    {
     "data": {
      "text/plain": [
       "1:10"
      ]
     },
     "execution_count": 76,
     "metadata": {},
     "output_type": "execute_result"
    }
   ],
   "source": [
    "1:10"
   ]
  },
  {
   "cell_type": "markdown",
   "metadata": {},
   "source": [
    "Dla oszczędności pamięci elementy wycinka nie są generowane, dopóki nie jest to konieczne. Zebrać w wektor elementy generowane przez wycinek można przy pomocy funkcji `collect`:"
   ]
  },
  {
   "cell_type": "code",
   "execution_count": 77,
   "metadata": {},
   "outputs": [
    {
     "data": {
      "text/plain": [
       "21-element Array{Int64,1}:\n",
       "  0\n",
       "  1\n",
       "  2\n",
       "  3\n",
       "  4\n",
       "  5\n",
       "  6\n",
       "  7\n",
       "  8\n",
       "  9\n",
       " 10\n",
       " 11\n",
       " 12\n",
       " 13\n",
       " 14\n",
       " 15\n",
       " 16\n",
       " 17\n",
       " 18\n",
       " 19\n",
       " 20"
      ]
     },
     "execution_count": 77,
     "metadata": {},
     "output_type": "execute_result"
    }
   ],
   "source": [
    "a = collect(0:20)"
   ]
  },
  {
   "cell_type": "markdown",
   "metadata": {},
   "source": [
    "Opcjonalnie można użyć alternatywnego zapisu z wielkością kroku `początek:krok:koniec` (domyślnie krok ma wartość 1). Tutaj zastosowanie do pobrania co czwartego elementu wektora:"
   ]
  },
  {
   "cell_type": "code",
   "execution_count": 78,
   "metadata": {},
   "outputs": [
    {
     "data": {
      "text/plain": [
       "6-element Array{Int64,1}:\n",
       "  0\n",
       "  4\n",
       "  8\n",
       " 12\n",
       " 16\n",
       " 20"
      ]
     },
     "execution_count": 78,
     "metadata": {},
     "output_type": "execute_result"
    }
   ],
   "source": [
    "a[1:4:end]"
   ]
  },
  {
   "cell_type": "markdown",
   "metadata": {},
   "source": [
    "W powyższej instrukcji widać również zastosowanie słowa kluczowego `end`, oznaczającego ostatni indeks tego wektora.\n",
    "\n",
    "Indeksowanie stringa jest analogiczne do indeksowania wektora (choć, jak to było już wcześniej wspomniane, niektóre litery znajdują się pod więcej niż jednym indeksem). Tutaj także można użyć wycinka, aby uzyskać podciąg znaków:"
   ]
  },
  {
   "cell_type": "code",
   "execution_count": 79,
   "metadata": {},
   "outputs": [
    {
     "data": {
      "text/plain": [
       "\"utob\""
      ]
     },
     "execution_count": 79,
     "metadata": {},
     "output_type": "execute_result"
    }
   ],
   "source": [
    "slowo = \"Autobus\"\n",
    "slowo[2:5]"
   ]
  },
  {
   "cell_type": "code",
   "execution_count": 80,
   "metadata": {},
   "outputs": [
    {
     "data": {
      "text/plain": [
       "\"Autobu\""
      ]
     },
     "execution_count": 80,
     "metadata": {},
     "output_type": "execute_result"
    }
   ],
   "source": [
    "slowo[1:end-1]"
   ]
  },
  {
   "cell_type": "markdown",
   "metadata": {},
   "source": [
    "## Elementy funkcyjności"
   ]
  },
  {
   "cell_type": "markdown",
   "metadata": {},
   "source": [
    "Operatory można wywołać tak, jak zwykłe funkcje:"
   ]
  },
  {
   "cell_type": "code",
   "execution_count": 81,
   "metadata": {},
   "outputs": [
    {
     "data": {
      "text/plain": [
       "11"
      ]
     },
     "execution_count": 81,
     "metadata": {},
     "output_type": "execute_result"
    }
   ],
   "source": [
    "+(1,4,6)"
   ]
  },
  {
   "cell_type": "code",
   "execution_count": 82,
   "metadata": {},
   "outputs": [
    {
     "data": {
      "text/plain": [
       "true"
      ]
     },
     "execution_count": 82,
     "metadata": {},
     "output_type": "execute_result"
    }
   ],
   "source": [
    "<(4, 7)"
   ]
  },
  {
   "cell_type": "markdown",
   "metadata": {},
   "source": [
    "Możliwość ta istnieje nawet dla zwektoryzowanych wersji operatorów:"
   ]
  },
  {
   "cell_type": "code",
   "execution_count": 83,
   "metadata": {},
   "outputs": [
    {
     "data": {
      "text/plain": [
       "2-element BitArray{1}:\n",
       " 1\n",
       " 0"
      ]
     },
     "execution_count": 83,
     "metadata": {},
     "output_type": "execute_result"
    }
   ],
   "source": [
    ".≤([4,2], [5, 0]) "
   ]
  },
  {
   "cell_type": "markdown",
   "metadata": {},
   "source": [
    "## Rozwiązywanie równań"
   ]
  },
  {
   "cell_type": "markdown",
   "metadata": {},
   "source": [
    "Wbudowanym sposobem rozwiązywania liniowych układów równań jest użycie operatora `\\`."
   ]
  },
  {
   "cell_type": "markdown",
   "metadata": {},
   "source": [
    "### Przykład 1\n",
    "\n",
    "$\\left\\lbrace{\\begin{align} x+ y +z = 6\\\\ x+y = 3\\\\ x +z = 4\\end{align}}\\right.$"
   ]
  },
  {
   "cell_type": "markdown",
   "metadata": {},
   "source": [
    "Zapis macierzowy\n",
    "\n",
    "$\\begin{bmatrix} 1 & 1 & 1 \\\\ 1 & 1 & 0 \\\\ 1 & 0 & 1\\\\ \\end{bmatrix} \\begin{bmatrix} x\\\\ y \\\\ z \\end{bmatrix} = \\begin{bmatrix} 6\\\\ 3\\\\ 4\\\\ \\end{bmatrix}$"
   ]
  },
  {
   "cell_type": "code",
   "execution_count": 84,
   "metadata": {},
   "outputs": [
    {
     "data": {
      "text/plain": [
       "3-element Array{Float64,1}:\n",
       " 1.0\n",
       " 2.0\n",
       " 3.0"
      ]
     },
     "execution_count": 84,
     "metadata": {},
     "output_type": "execute_result"
    }
   ],
   "source": [
    "[1 1 1; 1 1 0; 1 0 1] \\ [6;3;4]"
   ]
  },
  {
   "cell_type": "markdown",
   "metadata": {},
   "source": [
    "Otrzymane rozwiązanie to:\n",
    "\n",
    "$\\left\\lbrace\\begin{align} x = 1\\\\ y = 2\\\\ z = 3 \\end{align}\\right.$"
   ]
  },
  {
   "cell_type": "markdown",
   "metadata": {},
   "source": [
    "### Przykład 2\n",
    "\n",
    "$\\left\\lbrace{\\begin{align}  x^2-7+5x = y\\\\4y +8x = -21\\end{align}}\\right.$"
   ]
  },
  {
   "cell_type": "markdown",
   "metadata": {},
   "source": [
    "Rozwiązywanie układu równań nieliniowych:"
   ]
  },
  {
   "cell_type": "code",
   "execution_count": 85,
   "metadata": {},
   "outputs": [
    {
     "data": {
      "text/plain": [
       "Results of Nonlinear Solver Algorithm\n",
       " * Algorithm: Trust-region with dogleg and autoscaling\n",
       " * Starting Point: [5.0, 5.0]\n",
       " * Zero: [3.5000915527459067, 1.7501831054918187]\n",
       " * Inf-norm of residuals: 0.000000\n",
       " * Iterations: 14\n",
       " * Convergence: true\n",
       "   * |x - x'| < 0.0e+00: false\n",
       "   * |f(x)| < 1.0e-08: true\n",
       " * Function Calls (f): 15\n",
       " * Jacobian Calls (df/dx): 15"
      ]
     },
     "execution_count": 85,
     "metadata": {},
     "output_type": "execute_result"
    }
   ],
   "source": [
    "# using NLsolve\n",
    "\n",
    "function f!(F, v) # tu ważna konwencja z wykrzyknikiem\n",
    "    x, y = v\n",
    "    F[1] = y - x^2 -7 + 5*x\n",
    "    F[2] = 4*y - 8*x + 21\n",
    "end\n",
    "\n",
    "res =  nlsolve(f!, [5.0; 5.0]) # uwaga: musi być Float, Int wyrzuca błąd"
   ]
  },
  {
   "cell_type": "code",
   "execution_count": 86,
   "metadata": {},
   "outputs": [
    {
     "data": {
      "text/plain": [
       "2-element Array{Float64,1}:\n",
       " 3.5000915527459067\n",
       " 1.7501831054918187"
      ]
     },
     "execution_count": 86,
     "metadata": {},
     "output_type": "execute_result"
    }
   ],
   "source": [
    "res.zero"
   ]
  },
  {
   "cell_type": "markdown",
   "metadata": {},
   "source": [
    "Otrzymane rozwiązanie to:\n",
    "\n",
    "$\\left\\lbrace\\begin{gather} x \\approx 3,\\!50\\\\ y \\approx 1,\\!75\\end{gather}\\right.$"
   ]
  },
  {
   "cell_type": "markdown",
   "metadata": {},
   "source": [
    "## Ramki/tablice danych (*Data frame*)"
   ]
  },
  {
   "cell_type": "markdown",
   "metadata": {},
   "source": [
    "Do korzystania z ramek danych potrzebny jest pakiet `DataFrames`."
   ]
  },
  {
   "cell_type": "code",
   "execution_count": 87,
   "metadata": {},
   "outputs": [],
   "source": [
    "using DataFrames"
   ]
  },
  {
   "cell_type": "markdown",
   "metadata": {},
   "source": [
    "### Tworzenie ramki"
   ]
  },
  {
   "cell_type": "code",
   "execution_count": 88,
   "metadata": {},
   "outputs": [
    {
     "data": {
      "text/html": [
       "<table class=\"data-frame\"><thead><tr><th></th><th>LiczbaAtomowa</th><th>Nazwa</th><th>MasaAtomowa</th><th>Symbol</th><th>Odkryty</th></tr><tr><th></th><th>Int64</th><th>String</th><th>Float64</th><th>String</th><th>Int64?</th></tr></thead><tbody><p>5 rows × 5 columns</p><tr><th>1</th><td>1</td><td>Wodór</td><td>1.0079</td><td>H</td><td>1776</td></tr><tr><th>2</th><td>2</td><td>Hel</td><td>4.0026</td><td>He</td><td>1895</td></tr><tr><th>3</th><td>6</td><td>Węgiel</td><td>12.0107</td><td>C</td><td>0</td></tr><tr><th>4</th><td>8</td><td>Tlen</td><td>15.9994</td><td>O</td><td>1774</td></tr><tr><th>5</th><td>26</td><td>Żelazo</td><td>55.845</td><td>Fe</td><td><em>missing</em></td></tr></tbody></table>"
      ],
      "text/latex": [
       "\\begin{tabular}{r|ccccc}\n",
       "\t& LiczbaAtomowa & Nazwa & MasaAtomowa & Symbol & Odkryty\\\\\n",
       "\t\\hline\n",
       "\t& Int64 & String & Float64 & String & Int64?\\\\\n",
       "\t\\hline\n",
       "\t1 & 1 & Wodór & 1.0079 & H & 1776 \\\\\n",
       "\t2 & 2 & Hel & 4.0026 & He & 1895 \\\\\n",
       "\t3 & 6 & Węgiel & 12.0107 & C & 0 \\\\\n",
       "\t4 & 8 & Tlen & 15.9994 & O & 1774 \\\\\n",
       "\t5 & 26 & Żelazo & 55.845 & Fe & \\emph{missing} \\\\\n",
       "\\end{tabular}\n"
      ],
      "text/plain": [
       "\u001b[1m5×5 DataFrame\u001b[0m\n",
       "\u001b[1m Row \u001b[0m│\u001b[1m LiczbaAtomowa \u001b[0m\u001b[1m Nazwa  \u001b[0m\u001b[1m MasaAtomowa \u001b[0m\u001b[1m Symbol \u001b[0m\u001b[1m Odkryty \u001b[0m\n",
       "\u001b[1m     \u001b[0m│\u001b[90m Int64         \u001b[0m\u001b[90m String \u001b[0m\u001b[90m Float64     \u001b[0m\u001b[90m String \u001b[0m\u001b[90m Int64?  \u001b[0m\n",
       "─────┼─────────────────────────────────────────────────────\n",
       "   1 │             1  Wodór        1.0079  H          1776\n",
       "   2 │             2  Hel          4.0026  He         1895\n",
       "   3 │             6  Węgiel      12.0107  C             0\n",
       "   4 │             8  Tlen        15.9994  O          1774\n",
       "   5 │            26  Żelazo      55.845   Fe     \u001b[90m missing \u001b[0m"
      ]
     },
     "execution_count": 88,
     "metadata": {},
     "output_type": "execute_result"
    }
   ],
   "source": [
    "chemtabla = DataFrame(  LiczbaAtomowa       =   [1,   2,    6,    8,    26    ],\n",
    "                     Nazwa        =   [\"Wodór\",   \"Hel\",   \"Węgiel\",   \"Tlen\",   \"Żelazo\"   ],\n",
    "                     MasaAtomowa =   [1.0079,    4.0026,  12.0107, 15.9994, 55.845   ],\n",
    "                     Symbol       =   [\"H\",    \"He\",    \"C\",    \"O\",  \"Fe\"  ],\n",
    "                     Odkryty  =   [1776,   1895,    0,    1774,    missing    ])"
   ]
  },
  {
   "cell_type": "markdown",
   "metadata": {},
   "source": [
    "### Operacje na ramce"
   ]
  },
  {
   "cell_type": "markdown",
   "metadata": {},
   "source": [
    "#### Opis kolumn\n",
    "Funkcja `describe` zwraca podstawowe informacje o poszczególnych kolumnach (jest zwektoryzowana!):"
   ]
  },
  {
   "cell_type": "code",
   "execution_count": 89,
   "metadata": {},
   "outputs": [
    {
     "data": {
      "text/html": [
       "<table class=\"data-frame\"><thead><tr><th></th><th>variable</th><th>mean</th><th>min</th><th>median</th><th>max</th><th>nmissing</th><th>eltype</th></tr><tr><th></th><th>Symbol</th><th>Union…</th><th>Any</th><th>Union…</th><th>Any</th><th>Int64</th><th>Type</th></tr></thead><tbody><p>5 rows × 7 columns</p><tr><th>1</th><td>LiczbaAtomowa</td><td>8.6</td><td>1</td><td>6.0</td><td>26</td><td>0</td><td>Int64</td></tr><tr><th>2</th><td>Nazwa</td><td></td><td>Hel</td><td></td><td>Żelazo</td><td>0</td><td>String</td></tr><tr><th>3</th><td>MasaAtomowa</td><td>17.7731</td><td>1.0079</td><td>12.0107</td><td>55.845</td><td>0</td><td>Float64</td></tr><tr><th>4</th><td>Symbol</td><td></td><td>C</td><td></td><td>O</td><td>0</td><td>String</td></tr><tr><th>5</th><td>Odkryty</td><td>1361.25</td><td>0</td><td>1775.0</td><td>1895</td><td>1</td><td>Union{Missing, Int64}</td></tr></tbody></table>"
      ],
      "text/latex": [
       "\\begin{tabular}{r|ccccccc}\n",
       "\t& variable & mean & min & median & max & nmissing & eltype\\\\\n",
       "\t\\hline\n",
       "\t& Symbol & Union… & Any & Union… & Any & Int64 & Type\\\\\n",
       "\t\\hline\n",
       "\t1 & LiczbaAtomowa & 8.6 & 1 & 6.0 & 26 & 0 & Int64 \\\\\n",
       "\t2 & Nazwa &  & Hel &  & Żelazo & 0 & String \\\\\n",
       "\t3 & MasaAtomowa & 17.7731 & 1.0079 & 12.0107 & 55.845 & 0 & Float64 \\\\\n",
       "\t4 & Symbol &  & C &  & O & 0 & String \\\\\n",
       "\t5 & Odkryty & 1361.25 & 0 & 1775.0 & 1895 & 1 & Union\\{Missing, Int64\\} \\\\\n",
       "\\end{tabular}\n"
      ],
      "text/plain": [
       "\u001b[1m5×7 DataFrame\u001b[0m\n",
       "\u001b[1m Row \u001b[0m│\u001b[1m variable      \u001b[0m\u001b[1m mean    \u001b[0m\u001b[1m min    \u001b[0m\u001b[1m median  \u001b[0m\u001b[1m max    \u001b[0m\u001b[1m nmissing \u001b[0m\u001b[1m eltype      \u001b[0m ⋯\n",
       "\u001b[1m     \u001b[0m│\u001b[90m Symbol        \u001b[0m\u001b[90m Union…  \u001b[0m\u001b[90m Any    \u001b[0m\u001b[90m Union…  \u001b[0m\u001b[90m Any    \u001b[0m\u001b[90m Int64    \u001b[0m\u001b[90m Type        \u001b[0m ⋯\n",
       "─────┼──────────────────────────────────────────────────────────────────────────\n",
       "   1 │ LiczbaAtomowa  8.6      1       6.0      26             0  Int64        ⋯\n",
       "   2 │ Nazwa         \u001b[90m         \u001b[0m Hel    \u001b[90m         \u001b[0m Żelazo         0  String\n",
       "   3 │ MasaAtomowa    17.7731  1.0079  12.0107  55.845         0  Float64\n",
       "   4 │ Symbol        \u001b[90m         \u001b[0m C      \u001b[90m         \u001b[0m O              0  String\n",
       "   5 │ Odkryty        1361.25  0       1775.0   1895           1  Union{Missin ⋯\n",
       "\u001b[31m                                                                1 column omitted\u001b[0m"
      ]
     },
     "execution_count": 89,
     "metadata": {},
     "output_type": "execute_result"
    }
   ],
   "source": [
    "describe(chemtabla)"
   ]
  },
  {
   "cell_type": "markdown",
   "metadata": {},
   "source": [
    "### Dostęp do kolumn"
   ]
  },
  {
   "cell_type": "markdown",
   "metadata": {},
   "source": [
    "Aby uzyskać dostęp do jednej kolumny można użyć notacji `nazwa_ramki.nazwa_kolumny`:"
   ]
  },
  {
   "cell_type": "code",
   "execution_count": 90,
   "metadata": {},
   "outputs": [
    {
     "data": {
      "text/plain": [
       "5-element Array{String,1}:\n",
       " \"H\"\n",
       " \"He\"\n",
       " \"C\"\n",
       " \"O\"\n",
       " \"Fe\""
      ]
     },
     "execution_count": 90,
     "metadata": {},
     "output_type": "execute_result"
    }
   ],
   "source": [
    "chemtabla.Symbol # wynik będzie wektorem"
   ]
  },
  {
   "cell_type": "markdown",
   "metadata": {},
   "source": [
    "można również uzyskać dostęp w następujący sposób:"
   ]
  },
  {
   "cell_type": "code",
   "execution_count": 91,
   "metadata": {},
   "outputs": [
    {
     "data": {
      "text/plain": [
       "5-element Array{String,1}:\n",
       " \"H\"\n",
       " \"He\"\n",
       " \"C\"\n",
       " \"O\"\n",
       " \"Fe\""
      ]
     },
     "execution_count": 91,
     "metadata": {},
     "output_type": "execute_result"
    }
   ],
   "source": [
    "chemtabla[:, :Symbol] # wynik także wektore"
   ]
  },
  {
   "cell_type": "markdown",
   "metadata": {},
   "source": [
    "Do większej liczby kolumn też można uzyskać dostęp"
   ]
  },
  {
   "cell_type": "code",
   "execution_count": 92,
   "metadata": {},
   "outputs": [
    {
     "data": {
      "text/html": [
       "<table class=\"data-frame\"><thead><tr><th></th><th>Nazwa</th><th>Symbol</th></tr><tr><th></th><th>String</th><th>String</th></tr></thead><tbody><p>5 rows × 2 columns</p><tr><th>1</th><td>Wodór</td><td>H</td></tr><tr><th>2</th><td>Hel</td><td>He</td></tr><tr><th>3</th><td>Węgiel</td><td>C</td></tr><tr><th>4</th><td>Tlen</td><td>O</td></tr><tr><th>5</th><td>Żelazo</td><td>Fe</td></tr></tbody></table>"
      ],
      "text/latex": [
       "\\begin{tabular}{r|cc}\n",
       "\t& Nazwa & Symbol\\\\\n",
       "\t\\hline\n",
       "\t& String & String\\\\\n",
       "\t\\hline\n",
       "\t1 & Wodór & H \\\\\n",
       "\t2 & Hel & He \\\\\n",
       "\t3 & Węgiel & C \\\\\n",
       "\t4 & Tlen & O \\\\\n",
       "\t5 & Żelazo & Fe \\\\\n",
       "\\end{tabular}\n"
      ],
      "text/plain": [
       "\u001b[1m5×2 DataFrame\u001b[0m\n",
       "\u001b[1m Row \u001b[0m│\u001b[1m Nazwa  \u001b[0m\u001b[1m Symbol \u001b[0m\n",
       "\u001b[1m     \u001b[0m│\u001b[90m String \u001b[0m\u001b[90m String \u001b[0m\n",
       "─────┼────────────────\n",
       "   1 │ Wodór   H\n",
       "   2 │ Hel     He\n",
       "   3 │ Węgiel  C\n",
       "   4 │ Tlen    O\n",
       "   5 │ Żelazo  Fe"
      ]
     },
     "execution_count": 92,
     "metadata": {},
     "output_type": "execute_result"
    }
   ],
   "source": [
    "chemtabla[:, [:Nazwa, :Symbol]] # przecinek obowiązkowy"
   ]
  },
  {
   "cell_type": "markdown",
   "metadata": {},
   "source": [
    "#### Wykluczanie kolumn\n",
    "\n",
    "Operator `Not()` powoduje, że kolumn o podanym numerze nie będzie."
   ]
  },
  {
   "cell_type": "code",
   "execution_count": 93,
   "metadata": {},
   "outputs": [
    {
     "data": {
      "text/html": [
       "<table class=\"data-frame\"><thead><tr><th></th><th>LiczbaAtomowa</th><th>Nazwa</th><th>MasaAtomowa</th><th>Symbol</th></tr><tr><th></th><th>Int64</th><th>String</th><th>Float64</th><th>String</th></tr></thead><tbody><p>5 rows × 4 columns</p><tr><th>1</th><td>1</td><td>Wodór</td><td>1.0079</td><td>H</td></tr><tr><th>2</th><td>2</td><td>Hel</td><td>4.0026</td><td>He</td></tr><tr><th>3</th><td>6</td><td>Węgiel</td><td>12.0107</td><td>C</td></tr><tr><th>4</th><td>8</td><td>Tlen</td><td>15.9994</td><td>O</td></tr><tr><th>5</th><td>26</td><td>Żelazo</td><td>55.845</td><td>Fe</td></tr></tbody></table>"
      ],
      "text/latex": [
       "\\begin{tabular}{r|cccc}\n",
       "\t& LiczbaAtomowa & Nazwa & MasaAtomowa & Symbol\\\\\n",
       "\t\\hline\n",
       "\t& Int64 & String & Float64 & String\\\\\n",
       "\t\\hline\n",
       "\t1 & 1 & Wodór & 1.0079 & H \\\\\n",
       "\t2 & 2 & Hel & 4.0026 & He \\\\\n",
       "\t3 & 6 & Węgiel & 12.0107 & C \\\\\n",
       "\t4 & 8 & Tlen & 15.9994 & O \\\\\n",
       "\t5 & 26 & Żelazo & 55.845 & Fe \\\\\n",
       "\\end{tabular}\n"
      ],
      "text/plain": [
       "\u001b[1m5×4 DataFrame\u001b[0m\n",
       "\u001b[1m Row \u001b[0m│\u001b[1m LiczbaAtomowa \u001b[0m\u001b[1m Nazwa  \u001b[0m\u001b[1m MasaAtomowa \u001b[0m\u001b[1m Symbol \u001b[0m\n",
       "\u001b[1m     \u001b[0m│\u001b[90m Int64         \u001b[0m\u001b[90m String \u001b[0m\u001b[90m Float64     \u001b[0m\u001b[90m String \u001b[0m\n",
       "─────┼────────────────────────────────────────────\n",
       "   1 │             1  Wodór        1.0079  H\n",
       "   2 │             2  Hel          4.0026  He\n",
       "   3 │             6  Węgiel      12.0107  C\n",
       "   4 │             8  Tlen        15.9994  O\n",
       "   5 │            26  Żelazo      55.845   Fe"
      ]
     },
     "execution_count": 93,
     "metadata": {},
     "output_type": "execute_result"
    }
   ],
   "source": [
    "chemtabla[:, Not(5)]"
   ]
  },
  {
   "cell_type": "markdown",
   "metadata": {},
   "source": [
    "Można też po nazwach:"
   ]
  },
  {
   "cell_type": "code",
   "execution_count": 94,
   "metadata": {},
   "outputs": [
    {
     "data": {
      "text/html": [
       "<table class=\"data-frame\"><thead><tr><th></th><th>LiczbaAtomowa</th><th>Nazwa</th><th>MasaAtomowa</th><th>Symbol</th></tr><tr><th></th><th>Int64</th><th>String</th><th>Float64</th><th>String</th></tr></thead><tbody><p>5 rows × 4 columns</p><tr><th>1</th><td>1</td><td>Wodór</td><td>1.0079</td><td>H</td></tr><tr><th>2</th><td>2</td><td>Hel</td><td>4.0026</td><td>He</td></tr><tr><th>3</th><td>6</td><td>Węgiel</td><td>12.0107</td><td>C</td></tr><tr><th>4</th><td>8</td><td>Tlen</td><td>15.9994</td><td>O</td></tr><tr><th>5</th><td>26</td><td>Żelazo</td><td>55.845</td><td>Fe</td></tr></tbody></table>"
      ],
      "text/latex": [
       "\\begin{tabular}{r|cccc}\n",
       "\t& LiczbaAtomowa & Nazwa & MasaAtomowa & Symbol\\\\\n",
       "\t\\hline\n",
       "\t& Int64 & String & Float64 & String\\\\\n",
       "\t\\hline\n",
       "\t1 & 1 & Wodór & 1.0079 & H \\\\\n",
       "\t2 & 2 & Hel & 4.0026 & He \\\\\n",
       "\t3 & 6 & Węgiel & 12.0107 & C \\\\\n",
       "\t4 & 8 & Tlen & 15.9994 & O \\\\\n",
       "\t5 & 26 & Żelazo & 55.845 & Fe \\\\\n",
       "\\end{tabular}\n"
      ],
      "text/plain": [
       "\u001b[1m5×4 DataFrame\u001b[0m\n",
       "\u001b[1m Row \u001b[0m│\u001b[1m LiczbaAtomowa \u001b[0m\u001b[1m Nazwa  \u001b[0m\u001b[1m MasaAtomowa \u001b[0m\u001b[1m Symbol \u001b[0m\n",
       "\u001b[1m     \u001b[0m│\u001b[90m Int64         \u001b[0m\u001b[90m String \u001b[0m\u001b[90m Float64     \u001b[0m\u001b[90m String \u001b[0m\n",
       "─────┼────────────────────────────────────────────\n",
       "   1 │             1  Wodór        1.0079  H\n",
       "   2 │             2  Hel          4.0026  He\n",
       "   3 │             6  Węgiel      12.0107  C\n",
       "   4 │             8  Tlen        15.9994  O\n",
       "   5 │            26  Żelazo      55.845   Fe"
      ]
     },
     "execution_count": 94,
     "metadata": {},
     "output_type": "execute_result"
    }
   ],
   "source": [
    "chemtabla[:, Not(:Odkryty)]"
   ]
  },
  {
   "cell_type": "markdown",
   "metadata": {},
   "source": [
    "### Operacje na wierszach\n",
    "\n",
    "Filtruje się analogicznie do macierzy, dodatkowo można wykorzystać `Not`."
   ]
  },
  {
   "cell_type": "code",
   "execution_count": 95,
   "metadata": {},
   "outputs": [
    {
     "data": {
      "text/html": [
       "<table class=\"data-frame\"><thead><tr><th></th><th>LiczbaAtomowa</th><th>Nazwa</th><th>MasaAtomowa</th><th>Symbol</th><th>Odkryty</th></tr><tr><th></th><th>Int64</th><th>String</th><th>Float64</th><th>String</th><th>Int64?</th></tr></thead><tbody><p>2 rows × 5 columns</p><tr><th>1</th><td>2</td><td>Hel</td><td>4.0026</td><td>He</td><td>1895</td></tr><tr><th>2</th><td>6</td><td>Węgiel</td><td>12.0107</td><td>C</td><td>0</td></tr></tbody></table>"
      ],
      "text/latex": [
       "\\begin{tabular}{r|ccccc}\n",
       "\t& LiczbaAtomowa & Nazwa & MasaAtomowa & Symbol & Odkryty\\\\\n",
       "\t\\hline\n",
       "\t& Int64 & String & Float64 & String & Int64?\\\\\n",
       "\t\\hline\n",
       "\t1 & 2 & Hel & 4.0026 & He & 1895 \\\\\n",
       "\t2 & 6 & Węgiel & 12.0107 & C & 0 \\\\\n",
       "\\end{tabular}\n"
      ],
      "text/plain": [
       "\u001b[1m2×5 DataFrame\u001b[0m\n",
       "\u001b[1m Row \u001b[0m│\u001b[1m LiczbaAtomowa \u001b[0m\u001b[1m Nazwa  \u001b[0m\u001b[1m MasaAtomowa \u001b[0m\u001b[1m Symbol \u001b[0m\u001b[1m Odkryty \u001b[0m\n",
       "\u001b[1m     \u001b[0m│\u001b[90m Int64         \u001b[0m\u001b[90m String \u001b[0m\u001b[90m Float64     \u001b[0m\u001b[90m String \u001b[0m\u001b[90m Int64?  \u001b[0m\n",
       "─────┼─────────────────────────────────────────────────────\n",
       "   1 │             2  Hel          4.0026  He         1895\n",
       "   2 │             6  Węgiel      12.0107  C             0"
      ]
     },
     "execution_count": 95,
     "metadata": {},
     "output_type": "execute_result"
    }
   ],
   "source": [
    "chemtabla[2:3, :]"
   ]
  },
  {
   "cell_type": "code",
   "execution_count": 96,
   "metadata": {},
   "outputs": [
    {
     "data": {
      "text/html": [
       "<table class=\"data-frame\"><thead><tr><th></th><th>LiczbaAtomowa</th><th>Nazwa</th><th>MasaAtomowa</th><th>Symbol</th><th>Odkryty</th></tr><tr><th></th><th>Int64</th><th>String</th><th>Float64</th><th>String</th><th>Int64?</th></tr></thead><tbody><p>4 rows × 5 columns</p><tr><th>1</th><td>1</td><td>Wodór</td><td>1.0079</td><td>H</td><td>1776</td></tr><tr><th>2</th><td>2</td><td>Hel</td><td>4.0026</td><td>He</td><td>1895</td></tr><tr><th>3</th><td>6</td><td>Węgiel</td><td>12.0107</td><td>C</td><td>0</td></tr><tr><th>4</th><td>8</td><td>Tlen</td><td>15.9994</td><td>O</td><td>1774</td></tr></tbody></table>"
      ],
      "text/latex": [
       "\\begin{tabular}{r|ccccc}\n",
       "\t& LiczbaAtomowa & Nazwa & MasaAtomowa & Symbol & Odkryty\\\\\n",
       "\t\\hline\n",
       "\t& Int64 & String & Float64 & String & Int64?\\\\\n",
       "\t\\hline\n",
       "\t1 & 1 & Wodór & 1.0079 & H & 1776 \\\\\n",
       "\t2 & 2 & Hel & 4.0026 & He & 1895 \\\\\n",
       "\t3 & 6 & Węgiel & 12.0107 & C & 0 \\\\\n",
       "\t4 & 8 & Tlen & 15.9994 & O & 1774 \\\\\n",
       "\\end{tabular}\n"
      ],
      "text/plain": [
       "\u001b[1m4×5 DataFrame\u001b[0m\n",
       "\u001b[1m Row \u001b[0m│\u001b[1m LiczbaAtomowa \u001b[0m\u001b[1m Nazwa  \u001b[0m\u001b[1m MasaAtomowa \u001b[0m\u001b[1m Symbol \u001b[0m\u001b[1m Odkryty \u001b[0m\n",
       "\u001b[1m     \u001b[0m│\u001b[90m Int64         \u001b[0m\u001b[90m String \u001b[0m\u001b[90m Float64     \u001b[0m\u001b[90m String \u001b[0m\u001b[90m Int64?  \u001b[0m\n",
       "─────┼─────────────────────────────────────────────────────\n",
       "   1 │             1  Wodór        1.0079  H          1776\n",
       "   2 │             2  Hel          4.0026  He         1895\n",
       "   3 │             6  Węgiel      12.0107  C             0\n",
       "   4 │             8  Tlen        15.9994  O          1774"
      ]
     },
     "execution_count": 96,
     "metadata": {},
     "output_type": "execute_result"
    }
   ],
   "source": [
    "chemtabla[Not(end), :]"
   ]
  },
  {
   "cell_type": "code",
   "execution_count": 97,
   "metadata": {},
   "outputs": [
    {
     "data": {
      "text/html": [
       "<table class=\"data-frame\"><thead><tr><th></th><th>LiczbaAtomowa</th><th>Nazwa</th><th>MasaAtomowa</th><th>Symbol</th><th>Odkryty</th></tr><tr><th></th><th>Int64</th><th>String</th><th>Float64</th><th>String</th><th>Int64?</th></tr></thead><tbody><p>3 rows × 5 columns</p><tr><th>1</th><td>1</td><td>Wodór</td><td>1.0079</td><td>H</td><td>1776</td></tr><tr><th>2</th><td>2</td><td>Hel</td><td>4.0026</td><td>He</td><td>1895</td></tr><tr><th>3</th><td>6</td><td>Węgiel</td><td>12.0107</td><td>C</td><td>0</td></tr></tbody></table>"
      ],
      "text/latex": [
       "\\begin{tabular}{r|ccccc}\n",
       "\t& LiczbaAtomowa & Nazwa & MasaAtomowa & Symbol & Odkryty\\\\\n",
       "\t\\hline\n",
       "\t& Int64 & String & Float64 & String & Int64?\\\\\n",
       "\t\\hline\n",
       "\t1 & 1 & Wodór & 1.0079 & H & 1776 \\\\\n",
       "\t2 & 2 & Hel & 4.0026 & He & 1895 \\\\\n",
       "\t3 & 6 & Węgiel & 12.0107 & C & 0 \\\\\n",
       "\\end{tabular}\n"
      ],
      "text/plain": [
       "\u001b[1m3×5 DataFrame\u001b[0m\n",
       "\u001b[1m Row \u001b[0m│\u001b[1m LiczbaAtomowa \u001b[0m\u001b[1m Nazwa  \u001b[0m\u001b[1m MasaAtomowa \u001b[0m\u001b[1m Symbol \u001b[0m\u001b[1m Odkryty \u001b[0m\n",
       "\u001b[1m     \u001b[0m│\u001b[90m Int64         \u001b[0m\u001b[90m String \u001b[0m\u001b[90m Float64     \u001b[0m\u001b[90m String \u001b[0m\u001b[90m Int64?  \u001b[0m\n",
       "─────┼─────────────────────────────────────────────────────\n",
       "   1 │             1  Wodór        1.0079  H          1776\n",
       "   2 │             2  Hel          4.0026  He         1895\n",
       "   3 │             6  Węgiel      12.0107  C             0"
      ]
     },
     "execution_count": 97,
     "metadata": {},
     "output_type": "execute_result"
    }
   ],
   "source": [
    "chemtabla[chemtabla.MasaAtomowa .< 13, :]"
   ]
  },
  {
   "cell_type": "markdown",
   "metadata": {},
   "source": [
    "### Modyfikacja ramki"
   ]
  },
  {
   "cell_type": "markdown",
   "metadata": {},
   "source": [
    "Wynik można uzyskać na parę sposób"
   ]
  },
  {
   "cell_type": "code",
   "execution_count": 98,
   "metadata": {},
   "outputs": [
    {
     "data": {
      "text/plain": [
       "5-element Array{Float64,1}:\n",
       " 1.0079\n",
       " 2.0013\n",
       " 2.0017833333333335\n",
       " 1.999925\n",
       " 2.147884615384615"
      ]
     },
     "execution_count": 98,
     "metadata": {},
     "output_type": "execute_result"
    }
   ],
   "source": [
    "chemtabla.MasaNukleonu = chemtabla.MasaAtomowa./chemtabla.LiczbaAtomowa"
   ]
  },
  {
   "cell_type": "code",
   "execution_count": 99,
   "metadata": {},
   "outputs": [
    {
     "data": {
      "text/html": [
       "<table class=\"data-frame\"><thead><tr><th></th><th>LiczbaAtomowa</th><th>Nazwa</th><th>MasaAtomowa</th><th>Symbol</th><th>Odkryty</th><th>MasaNukleonu</th></tr><tr><th></th><th>Int64</th><th>String</th><th>Float64</th><th>String</th><th>Int64?</th><th>Float64</th></tr></thead><tbody><p>5 rows × 6 columns</p><tr><th>1</th><td>1</td><td>Wodór</td><td>1.0079</td><td>H</td><td>1776</td><td>1.0079</td></tr><tr><th>2</th><td>2</td><td>Hel</td><td>4.0026</td><td>He</td><td>1895</td><td>2.0013</td></tr><tr><th>3</th><td>6</td><td>Węgiel</td><td>12.0107</td><td>C</td><td>0</td><td>2.00178</td></tr><tr><th>4</th><td>8</td><td>Tlen</td><td>15.9994</td><td>O</td><td>1774</td><td>1.99992</td></tr><tr><th>5</th><td>26</td><td>Żelazo</td><td>55.845</td><td>Fe</td><td><em>missing</em></td><td>2.14788</td></tr></tbody></table>"
      ],
      "text/latex": [
       "\\begin{tabular}{r|cccccc}\n",
       "\t& LiczbaAtomowa & Nazwa & MasaAtomowa & Symbol & Odkryty & MasaNukleonu\\\\\n",
       "\t\\hline\n",
       "\t& Int64 & String & Float64 & String & Int64? & Float64\\\\\n",
       "\t\\hline\n",
       "\t1 & 1 & Wodór & 1.0079 & H & 1776 & 1.0079 \\\\\n",
       "\t2 & 2 & Hel & 4.0026 & He & 1895 & 2.0013 \\\\\n",
       "\t3 & 6 & Węgiel & 12.0107 & C & 0 & 2.00178 \\\\\n",
       "\t4 & 8 & Tlen & 15.9994 & O & 1774 & 1.99992 \\\\\n",
       "\t5 & 26 & Żelazo & 55.845 & Fe & \\emph{missing} & 2.14788 \\\\\n",
       "\\end{tabular}\n"
      ],
      "text/plain": [
       "\u001b[1m5×6 DataFrame\u001b[0m\n",
       "\u001b[1m Row \u001b[0m│\u001b[1m LiczbaAtomowa \u001b[0m\u001b[1m Nazwa  \u001b[0m\u001b[1m MasaAtomowa \u001b[0m\u001b[1m Symbol \u001b[0m\u001b[1m Odkryty \u001b[0m\u001b[1m MasaNukleonu \u001b[0m\n",
       "\u001b[1m     \u001b[0m│\u001b[90m Int64         \u001b[0m\u001b[90m String \u001b[0m\u001b[90m Float64     \u001b[0m\u001b[90m String \u001b[0m\u001b[90m Int64?  \u001b[0m\u001b[90m Float64      \u001b[0m\n",
       "─────┼───────────────────────────────────────────────────────────────────\n",
       "   1 │             1  Wodór        1.0079  H          1776       1.0079\n",
       "   2 │             2  Hel          4.0026  He         1895       2.0013\n",
       "   3 │             6  Węgiel      12.0107  C             0       2.00178\n",
       "   4 │             8  Tlen        15.9994  O          1774       1.99992\n",
       "   5 │            26  Żelazo      55.845   Fe     \u001b[90m missing \u001b[0m      2.14788"
      ]
     },
     "execution_count": 99,
     "metadata": {},
     "output_type": "execute_result"
    }
   ],
   "source": [
    "chemtabla"
   ]
  },
  {
   "cell_type": "markdown",
   "metadata": {},
   "source": [
    "Można i w taki sposób:"
   ]
  },
  {
   "cell_type": "code",
   "execution_count": 100,
   "metadata": {},
   "outputs": [
    {
     "data": {
      "text/plain": [
       "5-element Array{Float64,1}:\n",
       " 1.0079\n",
       " 2.0013\n",
       " 2.0017833333333335\n",
       " 1.999925\n",
       " 2.147884615384615"
      ]
     },
     "execution_count": 100,
     "metadata": {},
     "output_type": "execute_result"
    }
   ],
   "source": [
    "chemtabla[!, :MasaNukleonu] = chemtabla.MasaAtomowa./chemtabla.LiczbaAtomowa"
   ]
  },
  {
   "cell_type": "markdown",
   "metadata": {},
   "source": [
    "### Agregowanie"
   ]
  },
  {
   "cell_type": "markdown",
   "metadata": {},
   "source": [
    "Aby użyć funkcji agregującej, należy na początku użyć funkcji `combine`:"
   ]
  },
  {
   "cell_type": "code",
   "execution_count": 101,
   "metadata": {},
   "outputs": [
    {
     "data": {
      "text/html": [
       "<table class=\"data-frame\"><thead><tr><th></th><th>LiczbaAtomowa_sum</th><th>MasaAtomowa_sum</th></tr><tr><th></th><th>Int64</th><th>Float64</th></tr></thead><tbody><p>1 rows × 2 columns</p><tr><th>1</th><td>43</td><td>88.8656</td></tr></tbody></table>"
      ],
      "text/latex": [
       "\\begin{tabular}{r|cc}\n",
       "\t& LiczbaAtomowa\\_sum & MasaAtomowa\\_sum\\\\\n",
       "\t\\hline\n",
       "\t& Int64 & Float64\\\\\n",
       "\t\\hline\n",
       "\t1 & 43 & 88.8656 \\\\\n",
       "\\end{tabular}\n"
      ],
      "text/plain": [
       "\u001b[1m1×2 DataFrame\u001b[0m\n",
       "\u001b[1m Row \u001b[0m│\u001b[1m LiczbaAtomowa_sum \u001b[0m\u001b[1m MasaAtomowa_sum \u001b[0m\n",
       "\u001b[1m     \u001b[0m│\u001b[90m Int64             \u001b[0m\u001b[90m Float64         \u001b[0m\n",
       "─────┼────────────────────────────────────\n",
       "   1 │                43          88.8656"
      ]
     },
     "execution_count": 101,
     "metadata": {},
     "output_type": "execute_result"
    }
   ],
   "source": [
    "combine(chemtabla, [:LiczbaAtomowa, :MasaAtomowa] .=> sum) # tak wektoryzacja i to działa trochę słownikowo"
   ]
  },
  {
   "cell_type": "markdown",
   "metadata": {},
   "source": [
    "Można także właczyć grupowanie. W tym celu będzie dodana nowa kolumna `masywnyNukleon`."
   ]
  },
  {
   "cell_type": "code",
   "execution_count": 102,
   "metadata": {},
   "outputs": [
    {
     "data": {
      "text/plain": [
       "5-element Array{String,1}:\n",
       " \"nie\"\n",
       " \"tak\"\n",
       " \"tak\"\n",
       " \"nie\"\n",
       " \"tak\""
      ]
     },
     "execution_count": 102,
     "metadata": {},
     "output_type": "execute_result"
    }
   ],
   "source": [
    "chemtabla[!, :MasywnyNukleon] = ifelse.(chemtabla.MasaNukleonu .> 2, \"tak\", \"nie\")"
   ]
  },
  {
   "cell_type": "code",
   "execution_count": 103,
   "metadata": {},
   "outputs": [
    {
     "data": {
      "text/html": [
       "<table class=\"data-frame\"><thead><tr><th></th><th>LiczbaAtomowa</th><th>Nazwa</th><th>MasaAtomowa</th><th>Symbol</th><th>Odkryty</th><th>MasaNukleonu</th><th>MasywnyNukleon</th></tr><tr><th></th><th>Int64</th><th>String</th><th>Float64</th><th>String</th><th>Int64?</th><th>Float64</th><th>String</th></tr></thead><tbody><p>5 rows × 7 columns</p><tr><th>1</th><td>1</td><td>Wodór</td><td>1.0079</td><td>H</td><td>1776</td><td>1.0079</td><td>nie</td></tr><tr><th>2</th><td>2</td><td>Hel</td><td>4.0026</td><td>He</td><td>1895</td><td>2.0013</td><td>tak</td></tr><tr><th>3</th><td>6</td><td>Węgiel</td><td>12.0107</td><td>C</td><td>0</td><td>2.00178</td><td>tak</td></tr><tr><th>4</th><td>8</td><td>Tlen</td><td>15.9994</td><td>O</td><td>1774</td><td>1.99992</td><td>nie</td></tr><tr><th>5</th><td>26</td><td>Żelazo</td><td>55.845</td><td>Fe</td><td><em>missing</em></td><td>2.14788</td><td>tak</td></tr></tbody></table>"
      ],
      "text/latex": [
       "\\begin{tabular}{r|ccccccc}\n",
       "\t& LiczbaAtomowa & Nazwa & MasaAtomowa & Symbol & Odkryty & MasaNukleonu & MasywnyNukleon\\\\\n",
       "\t\\hline\n",
       "\t& Int64 & String & Float64 & String & Int64? & Float64 & String\\\\\n",
       "\t\\hline\n",
       "\t1 & 1 & Wodór & 1.0079 & H & 1776 & 1.0079 & nie \\\\\n",
       "\t2 & 2 & Hel & 4.0026 & He & 1895 & 2.0013 & tak \\\\\n",
       "\t3 & 6 & Węgiel & 12.0107 & C & 0 & 2.00178 & tak \\\\\n",
       "\t4 & 8 & Tlen & 15.9994 & O & 1774 & 1.99992 & nie \\\\\n",
       "\t5 & 26 & Żelazo & 55.845 & Fe & \\emph{missing} & 2.14788 & tak \\\\\n",
       "\\end{tabular}\n"
      ],
      "text/plain": [
       "\u001b[1m5×7 DataFrame\u001b[0m\n",
       "\u001b[1m Row \u001b[0m│\u001b[1m LiczbaAtomowa \u001b[0m\u001b[1m Nazwa  \u001b[0m\u001b[1m MasaAtomowa \u001b[0m\u001b[1m Symbol \u001b[0m\u001b[1m Odkryty \u001b[0m\u001b[1m MasaNukleonu \u001b[0m\u001b[1m Masy\u001b[0m ⋯\n",
       "\u001b[1m     \u001b[0m│\u001b[90m Int64         \u001b[0m\u001b[90m String \u001b[0m\u001b[90m Float64     \u001b[0m\u001b[90m String \u001b[0m\u001b[90m Int64?  \u001b[0m\u001b[90m Float64      \u001b[0m\u001b[90m Stri\u001b[0m ⋯\n",
       "─────┼──────────────────────────────────────────────────────────────────────────\n",
       "   1 │             1  Wodór        1.0079  H          1776       1.0079   nie  ⋯\n",
       "   2 │             2  Hel          4.0026  He         1895       2.0013   tak\n",
       "   3 │             6  Węgiel      12.0107  C             0       2.00178  tak\n",
       "   4 │             8  Tlen        15.9994  O          1774       1.99992  nie\n",
       "   5 │            26  Żelazo      55.845   Fe     \u001b[90m missing \u001b[0m      2.14788  tak  ⋯\n",
       "\u001b[31m                                                                1 column omitted\u001b[0m"
      ]
     },
     "execution_count": 103,
     "metadata": {},
     "output_type": "execute_result"
    }
   ],
   "source": [
    "chemtabla"
   ]
  },
  {
   "cell_type": "markdown",
   "metadata": {},
   "source": [
    "Grupowanie odbywa się przy użyciu `groupby`:"
   ]
  },
  {
   "cell_type": "code",
   "execution_count": 104,
   "metadata": {},
   "outputs": [
    {
     "data": {
      "text/html": [
       "<p><b>GroupedDataFrame with 2 groups based on key: MasywnyNukleon</b></p><p><i>First Group (2 rows): MasywnyNukleon = \"nie\"</i></p><table class=\"data-frame\"><thead><tr><th></th><th>LiczbaAtomowa</th><th>Nazwa</th><th>MasaAtomowa</th><th>Symbol</th><th>Odkryty</th><th>MasaNukleonu</th><th>MasywnyNukleon</th></tr><tr><th></th><th>Int64</th><th>String</th><th>Float64</th><th>String</th><th>Int64?</th><th>Float64</th><th>String</th></tr></thead><tbody><tr><th>1</th><td>1</td><td>Wodór</td><td>1.0079</td><td>H</td><td>1776</td><td>1.0079</td><td>nie</td></tr><tr><th>2</th><td>8</td><td>Tlen</td><td>15.9994</td><td>O</td><td>1774</td><td>1.99992</td><td>nie</td></tr></tbody></table><p>&vellip;</p><p><i>Last Group (3 rows): MasywnyNukleon = \"tak\"</i></p><table class=\"data-frame\"><thead><tr><th></th><th>LiczbaAtomowa</th><th>Nazwa</th><th>MasaAtomowa</th><th>Symbol</th><th>Odkryty</th><th>MasaNukleonu</th><th>MasywnyNukleon</th></tr><tr><th></th><th>Int64</th><th>String</th><th>Float64</th><th>String</th><th>Int64?</th><th>Float64</th><th>String</th></tr></thead><tbody><tr><th>1</th><td>2</td><td>Hel</td><td>4.0026</td><td>He</td><td>1895</td><td>2.0013</td><td>tak</td></tr><tr><th>2</th><td>6</td><td>Węgiel</td><td>12.0107</td><td>C</td><td>0</td><td>2.00178</td><td>tak</td></tr><tr><th>3</th><td>26</td><td>Żelazo</td><td>55.845</td><td>Fe</td><td><em>missing</em></td><td>2.14788</td><td>tak</td></tr></tbody></table>"
      ],
      "text/latex": [
       "GroupedDataFrame with 2 groups based on key: MasywnyNukleon\n",
       "\n",
       "First Group (2 rows): MasywnyNukleon = \"nie\"\n",
       "\n",
       "\\begin{tabular}{r|ccccccc}\n",
       "\t& LiczbaAtomowa & Nazwa & MasaAtomowa & Symbol & Odkryty & MasaNukleonu & MasywnyNukleon\\\\\n",
       "\t\\hline\n",
       "\t& Int64 & String & Float64 & String & Int64? & Float64 & String\\\\\n",
       "\t\\hline\n",
       "\t1 & 1 & Wodór & 1.0079 & H & 1776 & 1.0079 & nie \\\\\n",
       "\t2 & 8 & Tlen & 15.9994 & O & 1774 & 1.99992 & nie \\\\\n",
       "\\end{tabular}\n",
       "\n",
       "$\\dots$\n",
       "\n",
       "Last Group (3 rows): MasywnyNukleon = \"tak\"\n",
       "\n",
       "\\begin{tabular}{r|ccccccc}\n",
       "\t& LiczbaAtomowa & Nazwa & MasaAtomowa & Symbol & Odkryty & MasaNukleonu & MasywnyNukleon\\\\\n",
       "\t\\hline\n",
       "\t& Int64 & String & Float64 & String & Int64? & Float64 & String\\\\\n",
       "\t\\hline\n",
       "\t1 & 2 & Hel & 4.0026 & He & 1895 & 2.0013 & tak \\\\\n",
       "\t2 & 6 & Węgiel & 12.0107 & C & 0 & 2.00178 & tak \\\\\n",
       "\t3 & 26 & Żelazo & 55.845 & Fe & \\emph{missing} & 2.14788 & tak \\\\\n",
       "\\end{tabular}\n"
      ],
      "text/plain": [
       "GroupedDataFrame with 2 groups based on key: MasywnyNukleon\n",
       "First Group (2 rows): MasywnyNukleon = \"nie\"\n",
       "\u001b[1m Row \u001b[0m│\u001b[1m LiczbaAtomowa \u001b[0m\u001b[1m Nazwa  \u001b[0m\u001b[1m MasaAtomowa \u001b[0m\u001b[1m Symbol \u001b[0m\u001b[1m Odkryty \u001b[0m\u001b[1m MasaNukleonu \u001b[0m\u001b[1m Masy\u001b[0m ⋯\n",
       "\u001b[1m     \u001b[0m│\u001b[90m Int64         \u001b[0m\u001b[90m String \u001b[0m\u001b[90m Float64     \u001b[0m\u001b[90m String \u001b[0m\u001b[90m Int64?  \u001b[0m\u001b[90m Float64      \u001b[0m\u001b[90m Stri\u001b[0m ⋯\n",
       "─────┼──────────────────────────────────────────────────────────────────────────\n",
       "   1 │             1  Wodór        1.0079  H          1776       1.0079   nie  ⋯\n",
       "   2 │             8  Tlen        15.9994  O          1774       1.99992  nie\n",
       "\u001b[31m                                                                1 column omitted\u001b[0m\n",
       "⋮\n",
       "Last Group (3 rows): MasywnyNukleon = \"tak\"\n",
       "\u001b[1m Row \u001b[0m│\u001b[1m LiczbaAtomowa \u001b[0m\u001b[1m Nazwa  \u001b[0m\u001b[1m MasaAtomowa \u001b[0m\u001b[1m Symbol \u001b[0m\u001b[1m Odkryty \u001b[0m\u001b[1m MasaNukleonu \u001b[0m\u001b[1m Masy\u001b[0m ⋯\n",
       "\u001b[1m     \u001b[0m│\u001b[90m Int64         \u001b[0m\u001b[90m String \u001b[0m\u001b[90m Float64     \u001b[0m\u001b[90m String \u001b[0m\u001b[90m Int64?  \u001b[0m\u001b[90m Float64      \u001b[0m\u001b[90m Stri\u001b[0m ⋯\n",
       "─────┼──────────────────────────────────────────────────────────────────────────\n",
       "   1 │             2  Hel          4.0026  He         1895       2.0013   tak  ⋯\n",
       "   2 │             6  Węgiel      12.0107  C             0       2.00178  tak\n",
       "   3 │            26  Żelazo      55.845   Fe     \u001b[90m missing \u001b[0m      2.14788  tak\n",
       "\u001b[31m                                                                1 column omitted\u001b[0m"
      ]
     },
     "execution_count": 104,
     "metadata": {},
     "output_type": "execute_result"
    }
   ],
   "source": [
    "ct = groupby(chemtabla, :MasywnyNukleon)"
   ]
  },
  {
   "cell_type": "markdown",
   "metadata": {},
   "source": [
    "Dalej już jak wcześniej:"
   ]
  },
  {
   "cell_type": "code",
   "execution_count": 105,
   "metadata": {},
   "outputs": [
    {
     "data": {
      "text/html": [
       "<table class=\"data-frame\"><thead><tr><th></th><th>MasywnyNukleon</th><th>LiczbaAtomowa_sum</th><th>MasaAtomowa_sum</th></tr><tr><th></th><th>String</th><th>Int64</th><th>Float64</th></tr></thead><tbody><p>2 rows × 3 columns</p><tr><th>1</th><td>nie</td><td>9</td><td>17.0073</td></tr><tr><th>2</th><td>tak</td><td>34</td><td>71.8583</td></tr></tbody></table>"
      ],
      "text/latex": [
       "\\begin{tabular}{r|ccc}\n",
       "\t& MasywnyNukleon & LiczbaAtomowa\\_sum & MasaAtomowa\\_sum\\\\\n",
       "\t\\hline\n",
       "\t& String & Int64 & Float64\\\\\n",
       "\t\\hline\n",
       "\t1 & nie & 9 & 17.0073 \\\\\n",
       "\t2 & tak & 34 & 71.8583 \\\\\n",
       "\\end{tabular}\n"
      ],
      "text/plain": [
       "\u001b[1m2×3 DataFrame\u001b[0m\n",
       "\u001b[1m Row \u001b[0m│\u001b[1m MasywnyNukleon \u001b[0m\u001b[1m LiczbaAtomowa_sum \u001b[0m\u001b[1m MasaAtomowa_sum \u001b[0m\n",
       "\u001b[1m     \u001b[0m│\u001b[90m String         \u001b[0m\u001b[90m Int64             \u001b[0m\u001b[90m Float64         \u001b[0m\n",
       "─────┼────────────────────────────────────────────────────\n",
       "   1 │ nie                             9          17.0073\n",
       "   2 │ tak                            34          71.8583"
      ]
     },
     "execution_count": 105,
     "metadata": {},
     "output_type": "execute_result"
    }
   ],
   "source": [
    "combine(ct, [:LiczbaAtomowa, :MasaAtomowa] .=> sum)"
   ]
  }
 ],
 "metadata": {
  "kernelspec": {
   "display_name": "Julia 1.5.3",
   "language": "julia",
   "name": "julia-1.5"
  },
  "language_info": {
   "file_extension": ".jl",
   "mimetype": "application/julia",
   "name": "julia",
   "version": "1.5.3"
  }
 },
 "nbformat": 4,
 "nbformat_minor": 4
}
