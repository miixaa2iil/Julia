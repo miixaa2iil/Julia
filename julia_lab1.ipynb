{
 "cells": [
  {
   "cell_type": "markdown",
   "metadata": {},
   "source": [
    "# Zadania"
   ]
  },
  {
   "cell_type": "markdown",
   "metadata": {},
   "source": [
    "## Laboratorium I"
   ]
  },
  {
   "cell_type": "markdown",
   "metadata": {},
   "source": [
    "### Zadanie 1"
   ]
  },
  {
   "cell_type": "code",
   "execution_count": 1,
   "metadata": {},
   "outputs": [
    {
     "data": {
      "text/plain": [
       "print_history (generic function with 1 method)"
      ]
     },
     "execution_count": 1,
     "metadata": {},
     "output_type": "execute_result"
    }
   ],
   "source": [
    "mutable struct Calculator # domyślnie są niemutowalne\n",
    "    history::Array{String,1}\n",
    "end\n",
    "\n",
    "function add_numbers(x::Calculator, x1, x2)\n",
    "    result = x1 + x2\n",
    "    append!(x.history, [\"added $(x1) to $(x2) got $(result)\"])\n",
    "    return result\n",
    "end\n",
    "    \n",
    "function multiply_numbers(x::Calculator, x1, x2)\n",
    "    result = x1*x2\n",
    "    append!(x.history, [\"multiplied $(x1) by $(x2) got $(result)\"])\n",
    "    return result\n",
    "end\n",
    "        \n",
    "function print_history(x::Calculator)\n",
    "    println(\"drukuje historie:\")\n",
    "    for h in x.history\n",
    "        println(h)\n",
    "    end\n",
    "end"
   ]
  },
  {
   "cell_type": "code",
   "execution_count": 2,
   "metadata": {},
   "outputs": [
    {
     "name": "stdout",
     "output_type": "stream",
     "text": [
      "Pierwszy kalkulkator\n"
     ]
    }
   ],
   "source": [
    "println(\"Pierwszy kalkulkator\")"
   ]
  },
  {
   "cell_type": "code",
   "execution_count": 3,
   "metadata": {},
   "outputs": [
    {
     "data": {
      "text/plain": [
       "Calculator(String[])"
      ]
     },
     "execution_count": 3,
     "metadata": {},
     "output_type": "execute_result"
    }
   ],
   "source": [
    "c1 = Calculator(String[])"
   ]
  },
  {
   "cell_type": "code",
   "execution_count": 4,
   "metadata": {},
   "outputs": [
    {
     "data": {
      "text/plain": [
       "25"
      ]
     },
     "execution_count": 4,
     "metadata": {},
     "output_type": "execute_result"
    }
   ],
   "source": [
    "add_numbers(c1, 10, 15)"
   ]
  },
  {
   "cell_type": "code",
   "execution_count": 5,
   "metadata": {},
   "outputs": [
    {
     "data": {
      "text/plain": [
       "16"
      ]
     },
     "execution_count": 5,
     "metadata": {},
     "output_type": "execute_result"
    }
   ],
   "source": [
    "multiply_numbers(c1, 4, 4)"
   ]
  },
  {
   "cell_type": "code",
   "execution_count": 6,
   "metadata": {},
   "outputs": [
    {
     "name": "stdout",
     "output_type": "stream",
     "text": [
      "drukuje historie:\n",
      "added 10 to 15 got 25\n",
      "multiplied 4 by 4 got 16\n"
     ]
    }
   ],
   "source": [
    "print_history(c1)"
   ]
  },
  {
   "cell_type": "code",
   "execution_count": 7,
   "metadata": {},
   "outputs": [
    {
     "name": "stdout",
     "output_type": "stream",
     "text": [
      "Drugi kalkulkator\n"
     ]
    }
   ],
   "source": [
    "println(\"Drugi kalkulkator\")"
   ]
  },
  {
   "cell_type": "code",
   "execution_count": 8,
   "metadata": {},
   "outputs": [
    {
     "data": {
      "text/plain": [
       "Calculator(String[])"
      ]
     },
     "execution_count": 8,
     "metadata": {},
     "output_type": "execute_result"
    }
   ],
   "source": [
    "c2 = Calculator(String[])"
   ]
  },
  {
   "cell_type": "code",
   "execution_count": 9,
   "metadata": {},
   "outputs": [
    {
     "data": {
      "text/plain": [
       "3"
      ]
     },
     "execution_count": 9,
     "metadata": {},
     "output_type": "execute_result"
    }
   ],
   "source": [
    "add_numbers(c2, 1, 2)"
   ]
  },
  {
   "cell_type": "code",
   "execution_count": 10,
   "metadata": {},
   "outputs": [
    {
     "data": {
      "text/plain": [
       "12"
      ]
     },
     "execution_count": 10,
     "metadata": {},
     "output_type": "execute_result"
    }
   ],
   "source": [
    "multiply_numbers(c2, 3, 4)"
   ]
  },
  {
   "cell_type": "code",
   "execution_count": 11,
   "metadata": {},
   "outputs": [
    {
     "name": "stdout",
     "output_type": "stream",
     "text": [
      "drukuje historie:\n",
      "added 1 to 2 got 3\n",
      "multiplied 3 by 4 got 12\n"
     ]
    }
   ],
   "source": [
    "print_history(c2)"
   ]
  },
  {
   "cell_type": "code",
   "execution_count": 12,
   "metadata": {},
   "outputs": [
    {
     "name": "stdout",
     "output_type": "stream",
     "text": [
      "Trzeci kalkulator\n"
     ]
    }
   ],
   "source": [
    "println(\"Trzeci kalkulator\")"
   ]
  },
  {
   "cell_type": "code",
   "execution_count": 13,
   "metadata": {},
   "outputs": [
    {
     "data": {
      "text/plain": [
       "Calculator([\"added 10 to 15 got 25\", \"multiplied 4 by 4 got 16\"])"
      ]
     },
     "execution_count": 13,
     "metadata": {},
     "output_type": "execute_result"
    }
   ],
   "source": [
    "c3 = c1"
   ]
  },
  {
   "cell_type": "code",
   "execution_count": 14,
   "metadata": {},
   "outputs": [
    {
     "data": {
      "text/plain": [
       "20"
      ]
     },
     "execution_count": 14,
     "metadata": {},
     "output_type": "execute_result"
    }
   ],
   "source": [
    "add_numbers(c3, 10, 10)"
   ]
  },
  {
   "cell_type": "code",
   "execution_count": 15,
   "metadata": {},
   "outputs": [
    {
     "name": "stdout",
     "output_type": "stream",
     "text": [
      "drukuje historie:\n",
      "added 10 to 15 got 25\n",
      "multiplied 4 by 4 got 16\n",
      "added 10 to 10 got 20\n"
     ]
    }
   ],
   "source": [
    "print_history(c3)"
   ]
  },
  {
   "cell_type": "markdown",
   "metadata": {},
   "source": [
    "### Zadanie 2"
   ]
  },
  {
   "cell_type": "code",
   "execution_count": 16,
   "metadata": {},
   "outputs": [
    {
     "data": {
      "text/plain": [
       "dot_product (generic function with 1 method)"
      ]
     },
     "execution_count": 16,
     "metadata": {},
     "output_type": "execute_result"
    }
   ],
   "source": [
    "using LinearAlgebra\n",
    "\n",
    "function dot_product(u,v)\n",
    "    return u * v\n",
    "end"
   ]
  },
  {
   "cell_type": "code",
   "execution_count": 17,
   "metadata": {},
   "outputs": [
    {
     "data": {
      "text/plain": [
       "calc_condition_number_naive (generic function with 1 method)"
      ]
     },
     "execution_count": 17,
     "metadata": {},
     "output_type": "execute_result"
    }
   ],
   "source": [
    "function calc_condition_number_naive(f, u, v, delta)\n",
    "    cond_number = norm(f(u.+delta, v) - f(u,v)) / norm(f(u,v))\n",
    "    cond_number /= norm(u+delta)/norm(u)\n",
    "    return cond_number\n",
    "end"
   ]
  },
  {
   "cell_type": "code",
   "execution_count": 18,
   "metadata": {},
   "outputs": [
    {
     "data": {
      "text/plain": [
       "1×3 Array{Float64,2}:\n",
       " 0.02  0.04  0.06"
      ]
     },
     "execution_count": 18,
     "metadata": {},
     "output_type": "execute_result"
    }
   ],
   "source": [
    "x0 = [1 2 3]\n",
    "x1 = [2; 6; -5]\n",
    "\n",
    "dx = 0.02 * x0"
   ]
  },
  {
   "cell_type": "code",
   "execution_count": 19,
   "metadata": {},
   "outputs": [
    {
     "name": "stdout",
     "output_type": "stream",
     "text": [
      "0.019607843137254048"
     ]
    }
   ],
   "source": [
    "c = calc_condition_number_naive(dot_product, x0, x1, dx)\n",
    "print(c)"
   ]
  },
  {
   "cell_type": "code",
   "execution_count": 20,
   "metadata": {},
   "outputs": [
    {
     "name": "stdout",
     "output_type": "stream",
     "text": [
      "[0.01999999999999913]\n"
     ]
    }
   ],
   "source": [
    "# calculate the difference explicitly\n",
    "println(abs.([1] - ((x0 .+ dx) * x1) / (x0 * x1)))"
   ]
  },
  {
   "cell_type": "markdown",
   "metadata": {},
   "source": [
    "### Zadanie 3"
   ]
  },
  {
   "cell_type": "code",
   "execution_count": 21,
   "metadata": {},
   "outputs": [
    {
     "data": {
      "text/plain": [
       "fun (generic function with 1 method)"
      ]
     },
     "execution_count": 21,
     "metadata": {},
     "output_type": "execute_result"
    }
   ],
   "source": [
    "function fun(x)\n",
    "    return sin(x)\n",
    "end"
   ]
  },
  {
   "cell_type": "code",
   "execution_count": 22,
   "metadata": {},
   "outputs": [
    {
     "data": {
      "text/plain": [
       "f_prim_analytical (generic function with 1 method)"
      ]
     },
     "execution_count": 22,
     "metadata": {},
     "output_type": "execute_result"
    }
   ],
   "source": [
    "function f_prim_analytical(x)\n",
    "    return cos(x)\n",
    "end"
   ]
  },
  {
   "cell_type": "code",
   "execution_count": 23,
   "metadata": {},
   "outputs": [
    {
     "data": {
      "text/plain": [
       "central_fd (generic function with 1 method)"
      ]
     },
     "execution_count": 23,
     "metadata": {},
     "output_type": "execute_result"
    }
   ],
   "source": [
    "function central_fd(f,x,h)\n",
    "    f_prim = (f(x+h) - f(x-h))/(2*h)\n",
    "    return f_prim\n",
    "end"
   ]
  },
  {
   "cell_type": "code",
   "execution_count": 24,
   "metadata": {},
   "outputs": [
    {
     "data": {
      "text/plain": [
       "forward_fd (generic function with 1 method)"
      ]
     },
     "execution_count": 24,
     "metadata": {},
     "output_type": "execute_result"
    }
   ],
   "source": [
    "function forward_fd(f,x,h)\n",
    "    f_prim = (f(x+h) - f(x))/h\n",
    "    return f_prim\n",
    "end"
   ]
  },
  {
   "cell_type": "code",
   "execution_count": 25,
   "metadata": {},
   "outputs": [
    {
     "data": {
      "text/plain": [
       "backward_fd (generic function with 1 method)"
      ]
     },
     "execution_count": 25,
     "metadata": {},
     "output_type": "execute_result"
    }
   ],
   "source": [
    "function backward_fd(f,x,h)\n",
    "    f_prim = (f(x) - f(x-h))/h\n",
    "    return f_prim\n",
    "end"
   ]
  },
  {
   "cell_type": "code",
   "execution_count": 26,
   "metadata": {},
   "outputs": [
    {
     "data": {
      "text/plain": [
       "calc_L2_per_element (generic function with 1 method)"
      ]
     },
     "execution_count": 26,
     "metadata": {},
     "output_type": "execute_result"
    }
   ],
   "source": [
    "function calc_L2_per_element(anal, num)\n",
    "    return √((anal - num)^2/(anal * anal)) \n",
    "end"
   ]
  },
  {
   "cell_type": "code",
   "execution_count": 27,
   "metadata": {},
   "outputs": [
    {
     "data": {
      "text/plain": [
       "0.7853981633974483"
      ]
     },
     "execution_count": 27,
     "metadata": {},
     "output_type": "execute_result"
    }
   ],
   "source": [
    "x0 = π/4 #\\pi+TAB"
   ]
  },
  {
   "cell_type": "code",
   "execution_count": 28,
   "metadata": {},
   "outputs": [
    {
     "data": {
      "text/plain": [
       "11-element Array{Float64,1}:\n",
       " 1.0e-10\n",
       " 7.943282347242822e-10\n",
       " 6.309573444801943e-9\n",
       " 5.011872336272725e-8\n",
       " 3.981071705534969e-7\n",
       " 3.162277660168379e-6\n",
       " 2.5118864315095822e-5\n",
       " 0.00019952623149688788\n",
       " 0.001584893192461114\n",
       " 0.012589254117941675\n",
       " 0.1"
      ]
     },
     "execution_count": 28,
     "metadata": {},
     "output_type": "execute_result"
    }
   ],
   "source": [
    "dh = exp10.(range(-10, stop=-1, length=11))"
   ]
  },
  {
   "cell_type": "code",
   "execution_count": 29,
   "metadata": {},
   "outputs": [
    {
     "data": {
      "text/plain": [
       "0.7071067811865476"
      ]
     },
     "execution_count": 29,
     "metadata": {},
     "output_type": "execute_result"
    }
   ],
   "source": [
    "f_prim_exact = f_prim_analytical(x0)"
   ]
  },
  {
   "cell_type": "code",
   "execution_count": 30,
   "metadata": {},
   "outputs": [
    {
     "data": {
      "text/plain": [
       "11-element Array{Float64,1}:\n",
       " 0.7071067811865476\n",
       " 0.7071067811865476\n",
       " 0.7071067811865476\n",
       " 0.7071067811865476\n",
       " 0.7071067811865476\n",
       " 0.7071067811865476\n",
       " 0.7071067811865476\n",
       " 0.7071067811865476\n",
       " 0.7071067811865476\n",
       " 0.7071067811865476\n",
       " 0.7071067811865476"
      ]
     },
     "execution_count": 30,
     "metadata": {},
     "output_type": "execute_result"
    }
   ],
   "source": [
    "f_prim_exact = fill(f_prim_exact, length(dh))"
   ]
  },
  {
   "cell_type": "code",
   "execution_count": 31,
   "metadata": {},
   "outputs": [
    {
     "data": {
      "text/plain": [
       "11-element Array{Float64,1}:\n",
       " 0.7071071506103976\n",
       " 0.7071067711364534\n",
       " 0.7071067758806949\n",
       " 0.7071067803929915\n",
       " 0.7071067811981898\n",
       " 0.7071067811870284\n",
       " 0.7071067811135798\n",
       " 0.707106776494723\n",
       " 0.7071064851579438\n",
       " 0.707088103189159\n",
       " 0.7059288589999413"
      ]
     },
     "execution_count": 31,
     "metadata": {},
     "output_type": "execute_result"
    }
   ],
   "source": [
    "f_prim_central_fd = central_fd.(fun, x0, dh) # wektoryzacja"
   ]
  },
  {
   "cell_type": "code",
   "execution_count": 32,
   "metadata": {},
   "outputs": [
    {
     "data": {
      "text/plain": [
       "11-element Array{Float64,1}:\n",
       " 5.224439460799129e-7\n",
       " 1.4212979724610345e-8\n",
       " 7.503608828416303e-9\n",
       " 1.12225781411929e-9\n",
       " 1.6464617558470454e-11\n",
       " 6.800070438554805e-13\n",
       " 1.0319197171895167e-10\n",
       " 6.635242019263997e-9\n",
       " 4.1864784152715636e-7\n",
       " 2.641537497842881e-5\n",
       " 0.0016686131634779673"
      ]
     },
     "execution_count": 32,
     "metadata": {},
     "output_type": "execute_result"
    }
   ],
   "source": [
    "rel_error_central_fd = calc_L2_per_element.(f_prim_central_fd, f_prim_exact) # wektoryzacja"
   ]
  },
  {
   "cell_type": "code",
   "execution_count": 33,
   "metadata": {},
   "outputs": [
    {
     "data": {
      "text/plain": [
       "11-element Array{Float64,1}:\n",
       " 0.70710770572191\n",
       " 0.7071068410208523\n",
       " 0.7071067758806949\n",
       " 0.7071067637790952\n",
       " 0.707106640505543\n",
       " 0.7071056631796645\n",
       " 0.707097900255989\n",
       " 0.707036233319634\n",
       " 0.7065461409133483\n",
       " 0.7026371884963938\n",
       " 0.6706029729039897"
      ]
     },
     "execution_count": 33,
     "metadata": {},
     "output_type": "execute_result"
    }
   ],
   "source": [
    "f_prim_forward_fd = forward_fd.(fun, x0, dh) # wektoryzacja"
   ]
  },
  {
   "cell_type": "code",
   "execution_count": 34,
   "metadata": {},
   "outputs": [
    {
     "data": {
      "text/plain": [
       "11-element Array{Float64,1}:\n",
       " 1.3074887388405824e-6\n",
       " 8.461847808843922e-8\n",
       " 7.503608828416303e-9\n",
       " 2.4617855831857835e-8\n",
       " 1.9895302428896625e-7\n",
       " 1.5811029967494046e-6\n",
       " 1.2559690186329088e-5\n",
       " 9.977970518184793e-5\n",
       " 0.0007934942118210504\n",
       " 0.006361167275700964\n",
       " 0.05443430726899579"
      ]
     },
     "execution_count": 34,
     "metadata": {},
     "output_type": "execute_result"
    }
   ],
   "source": [
    "rel_error_forward_fd = calc_L2_per_element.(f_prim_forward_fd, f_prim_exact) # wektoryzacja"
   ]
  },
  {
   "cell_type": "code",
   "execution_count": 35,
   "metadata": {},
   "outputs": [
    {
     "data": {
      "text/plain": [
       "11-element Array{Float64,1}:\n",
       " 0.7071065954988853\n",
       " 0.7071067012520544\n",
       " 0.7071067758806949\n",
       " 0.7071067970068876\n",
       " 0.7071069218908368\n",
       " 0.7071078991943923\n",
       " 0.7071156619711707\n",
       " 0.7071773196698118\n",
       " 0.7076668294025393\n",
       " 0.7115390178819243\n",
       " 0.7412547450958928"
      ]
     },
     "execution_count": 35,
     "metadata": {},
     "output_type": "execute_result"
    }
   ],
   "source": [
    "f_prim_backward_fd = backward_fd.(fun, x0, dh) # wektoryzacja"
   ]
  },
  {
   "cell_type": "code",
   "execution_count": 36,
   "metadata": {},
   "outputs": [
    {
     "data": {
      "text/plain": [
       "11-element Array{Float64,1}:\n",
       " 2.6260207927398907e-7\n",
       " 1.130444570729776e-7\n",
       " 7.503608828416303e-9\n",
       " 2.237333894252382e-8\n",
       " 1.9898587450340886e-7\n",
       " 1.5810993570016291e-6\n",
       " 1.2559168323859304e-5\n",
       " 9.974652933885158e-5\n",
       " 0.000791400971082099\n",
       " 0.006229084539271517\n",
       " 0.04606778457104878"
      ]
     },
     "execution_count": 36,
     "metadata": {},
     "output_type": "execute_result"
    }
   ],
   "source": [
    "rel_error_backard_fd = calc_L2_per_element.(f_prim_backward_fd, f_prim_exact) # wektoryzacja"
   ]
  },
  {
   "cell_type": "code",
   "execution_count": 37,
   "metadata": {},
   "outputs": [
    {
     "data": {
      "text/plain": [
       "11-element Array{Float64,1}:\n",
       " 1.6686131634779673e-12\n",
       " 1.3254265485831538e-11\n",
       " 1.0528237305927546e-10\n",
       " 8.362876153975743e-10\n",
       " 6.642868652605332e-9\n",
       " 5.276618130329263e-8\n",
       " 4.1913667647785866e-7\n",
       " 3.3293209633485926e-6\n",
       " 2.6445736436472346e-5\n",
       " 0.0002100659513956668\n",
       " 0.0016686131634779673"
      ]
     },
     "execution_count": 37,
     "metadata": {},
     "output_type": "execute_result"
    }
   ],
   "source": [
    "y₁ = dh.^1 # \\_1 + TAB i musi być wektoryzacja\n",
    "y₁ = y₁ / y₁[end] * rel_error_central_fd[end]"
   ]
  },
  {
   "cell_type": "code",
   "execution_count": 38,
   "metadata": {},
   "outputs": [
    {
     "data": {
      "text/plain": [
       "11-element Array{Float64,1}:\n",
       " 1.668613163477967e-21\n",
       " 1.0528237305927543e-19\n",
       " 6.642868652605357e-18\n",
       " 4.1913667647785853e-16\n",
       " 2.644573643647228e-14\n",
       " 1.6686131634779667e-12\n",
       " 1.0528237305927543e-10\n",
       " 6.64286865260533e-9\n",
       " 4.1913667647785845e-7\n",
       " 2.644573643647234e-5\n",
       " 0.0016686131634779673"
      ]
     },
     "execution_count": 38,
     "metadata": {},
     "output_type": "execute_result"
    }
   ],
   "source": [
    "y₂ = dh.^2 # \\_2 + TAB i musi być wektoryzacja\n",
    "y₂ = y₂ ./ y₂[end] .* rel_error_central_fd[end] # tu może, ale nie musi, bo dzielenie i mnożenie przez liczby "
   ]
  },
  {
   "cell_type": "code",
   "execution_count": 39,
   "metadata": {},
   "outputs": [
    {
     "data": {
      "text/html": [
       "<script>\n",
       "// Immediately-invoked-function-expression to avoid global variables.\n",
       "(function() {\n",
       "    var warning_div = document.getElementById(\"webio-warning-1401103824151820870\");\n",
       "    var hide = function () {\n",
       "        var script = document.getElementById(\"webio-setup-10865178432646491182\");\n",
       "        var parent = script && script.parentElement;\n",
       "        var grandparent = parent && parent.parentElement;\n",
       "        if (grandparent) {\n",
       "            grandparent.style.display = \"none\";\n",
       "        }\n",
       "        warning_div.style.display = \"none\";\n",
       "    };\n",
       "    if (typeof Jupyter !== \"undefined\") {\n",
       "        console.log(\"WebIO detected Jupyter notebook environment.\");\n",
       "        // Jupyter notebook.\n",
       "        var extensions = (\n",
       "            Jupyter\n",
       "            && Jupyter.notebook.config.data\n",
       "            && Jupyter.notebook.config.data.load_extensions\n",
       "        );\n",
       "        if (extensions && extensions[\"webio-jupyter-notebook\"]) {\n",
       "            // Extension already loaded.\n",
       "            console.log(\"Jupyter WebIO nbextension detected; not loading ad-hoc.\");\n",
       "            hide();\n",
       "            return;\n",
       "        }\n",
       "    } else if (window.location.pathname.includes(\"/lab\")) {\n",
       "        // Guessing JupyterLa\n",
       "        console.log(\"Jupyter Lab detected; make sure the @webio/jupyter-lab-provider labextension is installed.\");\n",
       "        hide();\n",
       "        return;\n",
       "    }\n",
       "})();\n",
       "\n",
       "</script>\n",
       "<p\n",
       "    id=\"webio-warning-1401103824151820870\"\n",
       "    class=\"output_text output_stderr\"\n",
       "    style=\"padding: 1em; font-weight: bold;\"\n",
       ">\n",
       "    Unable to load WebIO. Please make sure WebIO works for your Jupyter client.\n",
       "    For troubleshooting, please see <a href=\"https://juliagizmos.github.io/WebIO.jl/latest/providers/ijulia/\">\n",
       "    the WebIO/IJulia documentation</a>.\n",
       "    <!-- TODO: link to installation docs. -->\n",
       "</p>\n"
      ],
      "text/plain": [
       "HTML{String}(\"<script>\\n// Immediately-invoked-function-expression to avoid global variables.\\n(function() {\\n    var warning_div = document.getElementById(\\\"webio-warning-1401103824151820870\\\");\\n    var hide = function () {\\n        var script = document.getElementById(\\\"webio-setup-10865178432646491182\\\");\\n        var parent = script && script.parentElement;\\n        var grandparent = parent && parent.parentElement;\\n        if (grandparent) {\\n            grandparent.style.display = \\\"none\\\";\\n        }\\n        warning_div.style.display = \\\"none\\\";\\n    };\\n    if (typeof Jupyter !== \\\"undefined\\\") {\\n        console.log(\\\"WebIO detected Jupyter notebook environment.\\\");\\n        // Jupyter notebook.\\n        var extensions = (\\n            Jupyter\\n            && Jupyter.notebook.config.data\\n            && Jupyter.notebook.config.data.load_extensions\\n        );\\n        if (extensions && extensions[\\\"webio-jupyter-notebook\\\"]) {\\n            // Extension already loaded.\\n            console.log(\\\"Jupyter WebIO nbextension detected; not loading ad-hoc.\\\");\\n            hide();\\n            return;\\n        }\\n    } else if (window.location.pathname.includes(\\\"/lab\\\")) {\\n        // Guessing JupyterLa\\n        console.log(\\\"Jupyter Lab detected; make sure the @webio/jupyter-lab-provider labextension is installed.\\\");\\n        hide();\\n        return;\\n    }\\n})();\\n\\n</script>\\n<p\\n    id=\\\"webio-warning-1401103824151820870\\\"\\n    class=\\\"output_text output_stderr\\\"\\n    style=\\\"padding: 1em; font-weight: bold;\\\"\\n>\\n    Unable to load WebIO. Please make sure WebIO works for your Jupyter client.\\n    For troubleshooting, please see <a href=\\\"https://juliagizmos.github.io/WebIO.jl/latest/providers/ijulia/\\\">\\n    the WebIO/IJulia documentation</a>.\\n    <!-- TODO: link to installation docs. -->\\n</p>\\n\")"
      ]
     },
     "metadata": {},
     "output_type": "display_data"
    },
    {
     "name": "stderr",
     "output_type": "stream",
     "text": [
      "┌ Warning: ORCA.jl has been deprecated and all savefig functionality\n",
      "│ has been implemented directly in PlotlyBase itself.\n",
      "│ \n",
      "│ By implementing in PlotlyBase.jl, the savefig routines are automatically\n",
      "│ available to PlotlyJS.jl also.\n",
      "└ @ ORCA /home/wojtek/.julia/packages/ORCA/U5XaN/src/ORCA.jl:8\n"
     ]
    },
    {
     "data": {
      "text/plain": [
       "Plots.PlotlyJSBackend()"
      ]
     },
     "execution_count": 39,
     "metadata": {},
     "output_type": "execute_result"
    }
   ],
   "source": [
    "using Plots\n",
    "plotlyjs()"
   ]
  },
  {
   "cell_type": "code",
   "execution_count": 43,
   "metadata": {},
   "outputs": [
    {
     "data": {
      "application/vnd.plotly.v1+json": {
       "data": [
        {
         "colorbar": {
          "title": ""
         },
         "legendgroup": "h",
         "line": {
          "color": "rgba(0, 0, 255, 1.000)",
          "dash": "solid",
          "shape": "linear",
          "width": 1
         },
         "mode": "lines",
         "name": "h",
         "showlegend": true,
         "type": "scatter",
         "x": [
          1e-10,
          7.943282347242822e-10,
          6.309573444801943e-09,
          5.011872336272725e-08,
          3.981071705534969e-07,
          3.162277660168379e-06,
          2.5118864315095822e-05,
          0.00019952623149688788,
          0.001584893192461114,
          0.012589254117941675,
          0.1
         ],
         "xaxis": "x1",
         "y": [
          1.6686131634779673e-12,
          1.3254265485831538e-11,
          1.0528237305927546e-10,
          8.362876153975743e-10,
          6.642868652605332e-09,
          5.276618130329263e-08,
          4.1913667647785866e-07,
          3.3293209633485926e-06,
          2.6445736436472346e-05,
          0.0002100659513956668,
          0.0016686131634779673
         ],
         "yaxis": "y1",
         "zmax": null,
         "zmin": null
        },
        {
         "colorbar": {
          "title": ""
         },
         "legendgroup": "h²",
         "line": {
          "color": "rgba(255, 165, 0, 1.000)",
          "dash": "solid",
          "shape": "linear",
          "width": 1
         },
         "mode": "lines",
         "name": "h²",
         "showlegend": true,
         "type": "scatter",
         "x": [
          1e-10,
          7.943282347242822e-10,
          6.309573444801943e-09,
          5.011872336272725e-08,
          3.981071705534969e-07,
          3.162277660168379e-06,
          2.5118864315095822e-05,
          0.00019952623149688788,
          0.001584893192461114,
          0.012589254117941675,
          0.1
         ],
         "xaxis": "x1",
         "y": [
          1.668613163477967e-21,
          1.0528237305927543e-19,
          6.642868652605357e-18,
          4.1913667647785853e-16,
          2.644573643647228e-14,
          1.6686131634779667e-12,
          1.0528237305927543e-10,
          6.64286865260533e-09,
          4.1913667647785845e-07,
          2.644573643647234e-05,
          0.0016686131634779673
         ],
         "yaxis": "y1",
         "zmax": null,
         "zmin": null
        },
        {
         "colorbar": {
          "title": ""
         },
         "legendgroup": "central FD",
         "marker": {
          "color": "rgba(0, 0, 0, 1.000)",
          "line": {
           "color": "rgba(0, 0, 0, 1.000)",
           "width": 1
          },
          "size": 6,
          "symbol": "x"
         },
         "mode": "markers",
         "name": "central FD",
         "showlegend": true,
         "type": "scatter",
         "x": [
          1e-10,
          7.943282347242822e-10,
          6.309573444801943e-09,
          5.011872336272725e-08,
          3.981071705534969e-07,
          3.162277660168379e-06,
          2.5118864315095822e-05,
          0.00019952623149688788,
          0.001584893192461114,
          0.012589254117941675,
          0.1
         ],
         "xaxis": "x1",
         "y": [
          5.224439460799129e-07,
          1.4212979724610345e-08,
          7.503608828416303e-09,
          1.12225781411929e-09,
          1.6464617558470454e-11,
          6.800070438554805e-13,
          1.0319197171895167e-10,
          6.635242019263997e-09,
          4.1864784152715636e-07,
          2.641537497842881e-05,
          0.0016686131634779673
         ],
         "yaxis": "y1",
         "zmax": null,
         "zmin": null
        },
        {
         "colorbar": {
          "title": ""
         },
         "legendgroup": "forward FD",
         "marker": {
          "color": "rgba(0, 0, 0, 1.000)",
          "line": {
           "color": "rgba(0, 0, 0, 1.000)",
           "width": 1
          },
          "size": 6,
          "symbol": "circle"
         },
         "mode": "markers",
         "name": "forward FD",
         "showlegend": true,
         "type": "scatter",
         "x": [
          1e-10,
          7.943282347242822e-10,
          6.309573444801943e-09,
          5.011872336272725e-08,
          3.981071705534969e-07,
          3.162277660168379e-06,
          2.5118864315095822e-05,
          0.00019952623149688788,
          0.001584893192461114,
          0.012589254117941675,
          0.1
         ],
         "xaxis": "x1",
         "y": [
          1.3074887388405824e-06,
          8.461847808843922e-08,
          7.503608828416303e-09,
          2.4617855831857835e-08,
          1.9895302428896625e-07,
          1.5811029967494046e-06,
          1.2559690186329088e-05,
          9.977970518184793e-05,
          0.0007934942118210504,
          0.006361167275700964,
          0.05443430726899579
         ],
         "yaxis": "y1",
         "zmax": null,
         "zmin": null
        }
       ],
       "layout": {
        "annotations": [
         {
          "font": {
           "color": "rgba(0, 0, 0, 1.000)",
           "family": "sans-serif",
           "size": 20
          },
          "rotation": 0,
          "showarrow": false,
          "text": "FD - convergence study",
          "x": 0.5571759259259259,
          "xanchor": "center",
          "xref": "paper",
          "y": 1,
          "yanchor": "top",
          "yref": "paper"
         }
        ],
        "height": 400,
        "legend": {
         "bgcolor": "rgba(255, 255, 255, 1.000)",
         "bordercolor": "rgba(0, 0, 0, 1.000)",
         "font": {
          "color": "rgba(0, 0, 0, 1.000)",
          "family": "sans-serif",
          "size": 11
         },
         "tracegroupgap": 0,
         "x": 1,
         "y": 0
        },
        "margin": {
         "b": 20,
         "l": 0,
         "r": 0,
         "t": 20
        },
        "paper_bgcolor": "rgba(255, 255, 255, 1.000)",
        "plot_bgcolor": "rgba(255, 255, 255, 1.000)",
        "showlegend": true,
        "width": 600,
        "xaxis": {
         "anchor": "y1",
         "domain": [
          0.1209135316418781,
          0.9934383202099738
         ],
         "gridcolor": "rgba(0, 0, 0, 0.100)",
         "gridwidth": 0.5,
         "linecolor": "rgba(0, 0, 0, 1.000)",
         "mirror": false,
         "range": [
          -10.27,
          -0.73
         ],
         "showgrid": true,
         "showline": true,
         "showticklabels": true,
         "tickangle": 0,
         "tickcolor": "rgb(0, 0, 0)",
         "tickfont": {
          "color": "rgba(0, 0, 0, 1.000)",
          "family": "sans-serif",
          "size": 11
         },
         "tickmode": "array",
         "ticks": "outside",
         "ticktext": [
          "10^-10",
          "10^-8",
          "10^-6",
          "10^-4",
          "10^-2"
         ],
         "tickvals": [
          1e-10,
          1e-08,
          1e-06,
          0.0001,
          0.01
         ],
         "title": "δ",
         "titlefont": {
          "color": "rgba(0, 0, 0, 1.000)",
          "family": "sans-serif",
          "size": 15
         },
         "type": "log",
         "visible": true,
         "zeroline": false,
         "zerolinecolor": "rgba(0, 0, 0, 1.000)"
        },
        "yaxis": {
         "anchor": "x1",
         "domain": [
          0.07581474190726165,
          0.9415463692038496
         ],
         "gridcolor": "rgba(0, 0, 0, 0.100)",
         "gridwidth": 0.5,
         "linecolor": "rgba(0, 0, 0, 1.000)",
         "mirror": false,
         "range": [
          -21.363049845697635,
          -0.6787217884871235
         ],
         "showgrid": true,
         "showline": true,
         "showticklabels": true,
         "tickangle": 0,
         "tickcolor": "rgb(0, 0, 0)",
         "tickfont": {
          "color": "rgba(0, 0, 0, 1.000)",
          "family": "sans-serif",
          "size": 11
         },
         "tickmode": "array",
         "ticks": "outside",
         "ticktext": [
          "10^-20",
          "10^-15",
          "10^-10",
          "10^-5"
         ],
         "tickvals": [
          1e-20,
          1e-15,
          1e-10,
          1e-05
         ],
         "title": "L₂(f′(x₀, δh))",
         "titlefont": {
          "color": "rgba(0, 0, 0, 1.000)",
          "family": "sans-serif",
          "size": 15
         },
         "type": "log",
         "visible": true,
         "zeroline": false,
         "zerolinecolor": "rgba(0, 0, 0, 1.000)"
        }
       }
      },
      "text/html": [
       "<!DOCTYPE html>\n",
       "<html>\n",
       "    <head>\n",
       "        <title>Plots.jl</title>\n",
       "        <meta http-equiv=\"content-type\" content=\"text/html; charset=UTF-8\">\n",
       "        <script src=\"https://cdn.plot.ly/plotly-latest.min.js\"></script>\n",
       "    </head>\n",
       "    <body>\n",
       "            <div id=\"72ab3839-8456-47f2-abd2-ab61d3f75031\" style=\"width:600px;height:400px;\"></div>\n",
       "    <script>\n",
       "    PLOT = document.getElementById('72ab3839-8456-47f2-abd2-ab61d3f75031');\n",
       "    Plotly.plot(PLOT, [\n",
       "    {\n",
       "        \"xaxis\": \"x1\",\n",
       "        \"colorbar\": {\n",
       "            \"title\": \"\"\n",
       "        },\n",
       "        \"yaxis\": \"y1\",\n",
       "        \"x\": [\n",
       "            1.0e-10,\n",
       "            7.943282347242822e-10,\n",
       "            6.309573444801943e-9,\n",
       "            5.011872336272725e-8,\n",
       "            3.981071705534969e-7,\n",
       "            3.162277660168379e-6,\n",
       "            2.5118864315095822e-5,\n",
       "            0.00019952623149688788,\n",
       "            0.001584893192461114,\n",
       "            0.012589254117941675,\n",
       "            0.1\n",
       "        ],\n",
       "        \"showlegend\": true,\n",
       "        \"mode\": \"lines\",\n",
       "        \"name\": \"h\",\n",
       "        \"zmin\": null,\n",
       "        \"legendgroup\": \"h\",\n",
       "        \"zmax\": null,\n",
       "        \"line\": {\n",
       "            \"color\": \"rgba(0, 0, 255, 1.000)\",\n",
       "            \"shape\": \"linear\",\n",
       "            \"dash\": \"solid\",\n",
       "            \"width\": 1\n",
       "        },\n",
       "        \"y\": [\n",
       "            1.6686131634779673e-12,\n",
       "            1.3254265485831538e-11,\n",
       "            1.0528237305927546e-10,\n",
       "            8.362876153975743e-10,\n",
       "            6.642868652605332e-9,\n",
       "            5.276618130329263e-8,\n",
       "            4.1913667647785866e-7,\n",
       "            3.3293209633485926e-6,\n",
       "            2.6445736436472346e-5,\n",
       "            0.0002100659513956668,\n",
       "            0.0016686131634779673\n",
       "        ],\n",
       "        \"type\": \"scatter\"\n",
       "    },\n",
       "    {\n",
       "        \"xaxis\": \"x1\",\n",
       "        \"colorbar\": {\n",
       "            \"title\": \"\"\n",
       "        },\n",
       "        \"yaxis\": \"y1\",\n",
       "        \"x\": [\n",
       "            1.0e-10,\n",
       "            7.943282347242822e-10,\n",
       "            6.309573444801943e-9,\n",
       "            5.011872336272725e-8,\n",
       "            3.981071705534969e-7,\n",
       "            3.162277660168379e-6,\n",
       "            2.5118864315095822e-5,\n",
       "            0.00019952623149688788,\n",
       "            0.001584893192461114,\n",
       "            0.012589254117941675,\n",
       "            0.1\n",
       "        ],\n",
       "        \"showlegend\": true,\n",
       "        \"mode\": \"lines\",\n",
       "        \"name\": \"h²\",\n",
       "        \"zmin\": null,\n",
       "        \"legendgroup\": \"h²\",\n",
       "        \"zmax\": null,\n",
       "        \"line\": {\n",
       "            \"color\": \"rgba(255, 165, 0, 1.000)\",\n",
       "            \"shape\": \"linear\",\n",
       "            \"dash\": \"solid\",\n",
       "            \"width\": 1\n",
       "        },\n",
       "        \"y\": [\n",
       "            1.668613163477967e-21,\n",
       "            1.0528237305927543e-19,\n",
       "            6.642868652605357e-18,\n",
       "            4.1913667647785853e-16,\n",
       "            2.644573643647228e-14,\n",
       "            1.6686131634779667e-12,\n",
       "            1.0528237305927543e-10,\n",
       "            6.64286865260533e-9,\n",
       "            4.1913667647785845e-7,\n",
       "            2.644573643647234e-5,\n",
       "            0.0016686131634779673\n",
       "        ],\n",
       "        \"type\": \"scatter\"\n",
       "    },\n",
       "    {\n",
       "        \"xaxis\": \"x1\",\n",
       "        \"colorbar\": {\n",
       "            \"title\": \"\"\n",
       "        },\n",
       "        \"yaxis\": \"y1\",\n",
       "        \"x\": [\n",
       "            1.0e-10,\n",
       "            7.943282347242822e-10,\n",
       "            6.309573444801943e-9,\n",
       "            5.011872336272725e-8,\n",
       "            3.981071705534969e-7,\n",
       "            3.162277660168379e-6,\n",
       "            2.5118864315095822e-5,\n",
       "            0.00019952623149688788,\n",
       "            0.001584893192461114,\n",
       "            0.012589254117941675,\n",
       "            0.1\n",
       "        ],\n",
       "        \"showlegend\": true,\n",
       "        \"mode\": \"markers\",\n",
       "        \"name\": \"central FD\",\n",
       "        \"zmin\": null,\n",
       "        \"legendgroup\": \"central FD\",\n",
       "        \"marker\": {\n",
       "            \"symbol\": \"x\",\n",
       "            \"color\": \"rgba(0, 0, 0, 1.000)\",\n",
       "            \"line\": {\n",
       "                \"color\": \"rgba(0, 0, 0, 1.000)\",\n",
       "                \"width\": 1\n",
       "            },\n",
       "            \"size\": 6\n",
       "        },\n",
       "        \"zmax\": null,\n",
       "        \"y\": [\n",
       "            5.224439460799129e-7,\n",
       "            1.4212979724610345e-8,\n",
       "            7.503608828416303e-9,\n",
       "            1.12225781411929e-9,\n",
       "            1.6464617558470454e-11,\n",
       "            6.800070438554805e-13,\n",
       "            1.0319197171895167e-10,\n",
       "            6.635242019263997e-9,\n",
       "            4.1864784152715636e-7,\n",
       "            2.641537497842881e-5,\n",
       "            0.0016686131634779673\n",
       "        ],\n",
       "        \"type\": \"scatter\"\n",
       "    },\n",
       "    {\n",
       "        \"xaxis\": \"x1\",\n",
       "        \"colorbar\": {\n",
       "            \"title\": \"\"\n",
       "        },\n",
       "        \"yaxis\": \"y1\",\n",
       "        \"x\": [\n",
       "            1.0e-10,\n",
       "            7.943282347242822e-10,\n",
       "            6.309573444801943e-9,\n",
       "            5.011872336272725e-8,\n",
       "            3.981071705534969e-7,\n",
       "            3.162277660168379e-6,\n",
       "            2.5118864315095822e-5,\n",
       "            0.00019952623149688788,\n",
       "            0.001584893192461114,\n",
       "            0.012589254117941675,\n",
       "            0.1\n",
       "        ],\n",
       "        \"showlegend\": true,\n",
       "        \"mode\": \"markers\",\n",
       "        \"name\": \"forward FD\",\n",
       "        \"zmin\": null,\n",
       "        \"legendgroup\": \"forward FD\",\n",
       "        \"marker\": {\n",
       "            \"symbol\": \"circle\",\n",
       "            \"color\": \"rgba(0, 0, 0, 1.000)\",\n",
       "            \"line\": {\n",
       "                \"color\": \"rgba(0, 0, 0, 1.000)\",\n",
       "                \"width\": 1\n",
       "            },\n",
       "            \"size\": 6\n",
       "        },\n",
       "        \"zmax\": null,\n",
       "        \"y\": [\n",
       "            1.3074887388405824e-6,\n",
       "            8.461847808843922e-8,\n",
       "            7.503608828416303e-9,\n",
       "            2.4617855831857835e-8,\n",
       "            1.9895302428896625e-7,\n",
       "            1.5811029967494046e-6,\n",
       "            1.2559690186329088e-5,\n",
       "            9.977970518184793e-5,\n",
       "            0.0007934942118210504,\n",
       "            0.006361167275700964,\n",
       "            0.05443430726899579\n",
       "        ],\n",
       "        \"type\": \"scatter\"\n",
       "    }\n",
       "]\n",
       ", {\n",
       "    \"showlegend\": true,\n",
       "    \"xaxis\": {\n",
       "        \"showticklabels\": true,\n",
       "        \"gridwidth\": 0.5,\n",
       "        \"tickvals\": [\n",
       "            1.0e-10,\n",
       "            1.0e-8,\n",
       "            1.0e-6,\n",
       "            0.0001,\n",
       "            0.01\n",
       "        ],\n",
       "        \"visible\": true,\n",
       "        \"ticks\": \"outside\",\n",
       "        \"range\": [\n",
       "            -10.27,\n",
       "            -0.73\n",
       "        ],\n",
       "        \"domain\": [\n",
       "            0.1209135316418781,\n",
       "            0.9934383202099738\n",
       "        ],\n",
       "        \"tickmode\": \"array\",\n",
       "        \"linecolor\": \"rgba(0, 0, 0, 1.000)\",\n",
       "        \"showgrid\": true,\n",
       "        \"title\": \"δ\",\n",
       "        \"mirror\": false,\n",
       "        \"tickangle\": 0,\n",
       "        \"showline\": true,\n",
       "        \"gridcolor\": \"rgba(0, 0, 0, 0.100)\",\n",
       "        \"titlefont\": {\n",
       "            \"color\": \"rgba(0, 0, 0, 1.000)\",\n",
       "            \"family\": \"sans-serif\",\n",
       "            \"size\": 15\n",
       "        },\n",
       "        \"tickcolor\": \"rgb(0, 0, 0)\",\n",
       "        \"ticktext\": [\n",
       "            \"10^-10\",\n",
       "            \"10^-8\",\n",
       "            \"10^-6\",\n",
       "            \"10^-4\",\n",
       "            \"10^-2\"\n",
       "        ],\n",
       "        \"zeroline\": false,\n",
       "        \"type\": \"log\",\n",
       "        \"tickfont\": {\n",
       "            \"color\": \"rgba(0, 0, 0, 1.000)\",\n",
       "            \"family\": \"sans-serif\",\n",
       "            \"size\": 11\n",
       "        },\n",
       "        \"zerolinecolor\": \"rgba(0, 0, 0, 1.000)\",\n",
       "        \"anchor\": \"y1\"\n",
       "    },\n",
       "    \"paper_bgcolor\": \"rgba(255, 255, 255, 1.000)\",\n",
       "    \"annotations\": [\n",
       "        {\n",
       "            \"yanchor\": \"top\",\n",
       "            \"xanchor\": \"center\",\n",
       "            \"rotation\": -0.0,\n",
       "            \"y\": 1.0,\n",
       "            \"font\": {\n",
       "                \"color\": \"rgba(0, 0, 0, 1.000)\",\n",
       "                \"family\": \"sans-serif\",\n",
       "                \"size\": 20\n",
       "            },\n",
       "            \"yref\": \"paper\",\n",
       "            \"showarrow\": false,\n",
       "            \"text\": \"FD - convergence study\",\n",
       "            \"xref\": \"paper\",\n",
       "            \"x\": 0.5571759259259259\n",
       "        }\n",
       "    ],\n",
       "    \"height\": 400,\n",
       "    \"margin\": {\n",
       "        \"l\": 0,\n",
       "        \"b\": 20,\n",
       "        \"r\": 0,\n",
       "        \"t\": 20\n",
       "    },\n",
       "    \"plot_bgcolor\": \"rgba(255, 255, 255, 1.000)\",\n",
       "    \"yaxis\": {\n",
       "        \"showticklabels\": true,\n",
       "        \"gridwidth\": 0.5,\n",
       "        \"tickvals\": [\n",
       "            1.0e-20,\n",
       "            1.0e-15,\n",
       "            1.0e-10,\n",
       "            1.0e-5\n",
       "        ],\n",
       "        \"visible\": true,\n",
       "        \"ticks\": \"outside\",\n",
       "        \"range\": [\n",
       "            -21.363049845697635,\n",
       "            -0.6787217884871235\n",
       "        ],\n",
       "        \"domain\": [\n",
       "            0.07581474190726165,\n",
       "            0.9415463692038496\n",
       "        ],\n",
       "        \"tickmode\": \"array\",\n",
       "        \"linecolor\": \"rgba(0, 0, 0, 1.000)\",\n",
       "        \"showgrid\": true,\n",
       "        \"title\": \"L₂(f′(x₀, δh))\",\n",
       "        \"mirror\": false,\n",
       "        \"tickangle\": 0,\n",
       "        \"showline\": true,\n",
       "        \"gridcolor\": \"rgba(0, 0, 0, 0.100)\",\n",
       "        \"titlefont\": {\n",
       "            \"color\": \"rgba(0, 0, 0, 1.000)\",\n",
       "            \"family\": \"sans-serif\",\n",
       "            \"size\": 15\n",
       "        },\n",
       "        \"tickcolor\": \"rgb(0, 0, 0)\",\n",
       "        \"ticktext\": [\n",
       "            \"10^-20\",\n",
       "            \"10^-15\",\n",
       "            \"10^-10\",\n",
       "            \"10^-5\"\n",
       "        ],\n",
       "        \"zeroline\": false,\n",
       "        \"type\": \"log\",\n",
       "        \"tickfont\": {\n",
       "            \"color\": \"rgba(0, 0, 0, 1.000)\",\n",
       "            \"family\": \"sans-serif\",\n",
       "            \"size\": 11\n",
       "        },\n",
       "        \"zerolinecolor\": \"rgba(0, 0, 0, 1.000)\",\n",
       "        \"anchor\": \"x1\"\n",
       "    },\n",
       "    \"legend\": {\n",
       "        \"tracegroupgap\": 0,\n",
       "        \"bordercolor\": \"rgba(0, 0, 0, 1.000)\",\n",
       "        \"bgcolor\": \"rgba(255, 255, 255, 1.000)\",\n",
       "        \"font\": {\n",
       "            \"color\": \"rgba(0, 0, 0, 1.000)\",\n",
       "            \"family\": \"sans-serif\",\n",
       "            \"size\": 11\n",
       "        },\n",
       "        \"y\": 0.0,\n",
       "        \"x\": 1.0\n",
       "    },\n",
       "    \"width\": 600\n",
       "}\n",
       ");\n",
       "    </script>\n",
       "\n",
       "    </body>\n",
       "</html>\n"
      ]
     },
     "execution_count": 43,
     "metadata": {},
     "output_type": "execute_result"
    }
   ],
   "source": [
    "plot(dh, \n",
    "    hcat(y₁, y₂, rel_error_central_fd, rel_error_forward_fd), # od razu wie, że będzie parę serii \n",
    "    title = \"FD - convergence study\", # tytuł\n",
    "    label = [\"h\" \"h²\" \"central FD\" \"forward FD\"], # opisy serii\n",
    "    color = [:blue :orange :black :black], # colory\n",
    "    t = [:line :line :scatter :scatter], # typ wykresu\n",
    "    line = [:solid :solid], # rodzaj linii, tylko dla :line\n",
    "    marker = [:none :none :xcross :circle], # rodzaj markerów\n",
    "    markersize = [0 0 3 3],\n",
    "    lw = 1, # grubość linii\n",
    "    xaxis=:log, # skala logarytmiczna\n",
    "    yaxis=:log, # jw.\n",
    "    xlabel = \"δ\", # etykieta osi OX; \\delta + TAB\n",
    "    ylabel = \"L₂(f′(x₀, δh))\", #etykieta osi OY; L\\_2 + TAB ( f\\prime+TAB x\\_0 +TAB, \\delta + TAB h))\n",
    "    grid = true, # siatka\n",
    "    xtick_direction = :out, # na zewnątrz \n",
    "    ytick_direction = :out, # na zewnątrz \n",
    "    legend=:bottomright) # położenie legendy"
   ]
  }
 ],
 "metadata": {
  "kernelspec": {
   "display_name": "Julia 1.5.3",
   "language": "julia",
   "name": "julia-1.5"
  },
  "language_info": {
   "file_extension": ".jl",
   "mimetype": "application/julia",
   "name": "julia",
   "version": "1.5.3"
  }
 },
 "nbformat": 4,
 "nbformat_minor": 4
}
